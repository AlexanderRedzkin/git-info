{
 "cells": [
  {
   "cell_type": "markdown",
   "metadata": {},
   "source": [
    "УРОК № 1 Объектно-ориентированное программирование в Python"
   ]
  },
  {
   "cell_type": "markdown",
   "metadata": {},
   "source": [
    "### КОНЦЕПЦИЯ ООП:\n",
    "\n",
    "1. ИНКАПСУЛЯЦИЯ:\n",
    "\n",
    "1) в объект объединяются и данные и методы которые работают с этими данными (т.е. объединение в один класс методов и свойств)\n",
    "2) сокрытие внутренней структуры объекта от внешних воздействий\n",
    "\n",
    "2. НАСЛЕДОВАНИЕ:\n",
    "\n",
    "1) дочерний класс может наследовать свойства и методы у родительского класса\n",
    "\n",
    "3. ПОЛИМОРФИЗМ\n",
    "\n",
    "1) Способность функций работать с данными разных типов"
   ]
  },
  {
   "cell_type": "code",
   "execution_count": 1,
   "metadata": {},
   "outputs": [],
   "source": [
    "class Point:\n",
    "    pass\n",
    "#Создаем пустой класс    \n"
   ]
  },
  {
   "cell_type": "code",
   "execution_count": 2,
   "metadata": {},
   "outputs": [],
   "source": [
    "class Point:\n",
    "    color = 'red'\n",
    "    circle = 1\n",
    "#Создаем атрибуты(свойства) в классе. Они как правило называются существительными    "
   ]
  },
  {
   "cell_type": "code",
   "execution_count": 3,
   "metadata": {},
   "outputs": [],
   "source": [
    "class Point:\n",
    "    color = 'red'\n",
    "    circle = 1\n",
    "\n",
    "    def set_coord():\n",
    "        print('hello world')\n",
    "#Создаем методы в классе. Они как правило называются глаголами"
   ]
  },
  {
   "cell_type": "code",
   "execution_count": 4,
   "metadata": {},
   "outputs": [],
   "source": [
    "a = Point()\n",
    "#Создаем экземпляр класса"
   ]
  },
  {
   "cell_type": "code",
   "execution_count": 2,
   "metadata": {},
   "outputs": [
    {
     "data": {
      "text/plain": [
       "1"
      ]
     },
     "execution_count": 2,
     "metadata": {},
     "output_type": "execute_result"
    }
   ],
   "source": [
    "a.color\n",
    "#Обращение к атрибуту класса"
   ]
  },
  {
   "cell_type": "code",
   "execution_count": 6,
   "metadata": {},
   "outputs": [],
   "source": [
    "a.circle = 2\n",
    "#создание в экземпляре локального атрибута"
   ]
  },
  {
   "cell_type": "markdown",
   "metadata": {},
   "source": [
    "Функции используемые в классах:"
   ]
  },
  {
   "cell_type": "code",
   "execution_count": null,
   "metadata": {},
   "outputs": [],
   "source": [
    "getattr(obj, name, [default]) - возвращает значение атрибута объекта\n",
    "# применительно для примера getattr(Point, a, '1')"
   ]
  },
  {
   "cell_type": "code",
   "execution_count": null,
   "metadata": {},
   "outputs": [],
   "source": [
    "hasattr(obj, name) - проверяет на наличие атрибута"
   ]
  },
  {
   "cell_type": "code",
   "execution_count": null,
   "metadata": {},
   "outputs": [],
   "source": [
    "setattr(obj, name, value) - создает атрибут, если он существует то меняет его свойства"
   ]
  },
  {
   "cell_type": "code",
   "execution_count": null,
   "metadata": {},
   "outputs": [],
   "source": [
    "delattr(obj, name) - удаляет атрибут с именем name"
   ]
  },
  {
   "cell_type": "code",
   "execution_count": null,
   "metadata": {},
   "outputs": [],
   "source": [
    "* doc - содержит строку с описанием класса\n",
    "* __dict__ - содержит набор атрибутов экземпляра класса\n",
    "# print(a.__dict__)"
   ]
  },
  {
   "cell_type": "markdown",
   "metadata": {},
   "source": [
    "### МЕТОДЫ КЛАССОВ. ПАРАМЕТР self."
   ]
  },
  {
   "cell_type": "code",
   "execution_count": null,
   "metadata": {},
   "outputs": [],
   "source": [
    "class Point:\n",
    "    color = 'red'\n",
    "    circle = 2\n",
    "\n",
    "    def set_coords():\n",
    "        print('hello world')\n",
    "\n",
    "Point.set_coords() # обращение к методу класса\n",
    "pt = Point() # создаем экземпляр класса\n",
    "\n",
    "pt.set_coords() # выдаст ошибку, так как необходим обязательный параментр self в метод.\n"
   ]
  },
  {
   "cell_type": "markdown",
   "metadata": {},
   "source": [
    "self - позволяет ссылатся методу на экземпляр класса, посредством чего, метод в последующем можно вызвать через экземпляр."
   ]
  },
  {
   "cell_type": "code",
   "execution_count": 4,
   "metadata": {},
   "outputs": [
    {
     "name": "stdout",
     "output_type": "stream",
     "text": [
      "hello world\n"
     ]
    }
   ],
   "source": [
    "class Point:\n",
    "    color = 'red'\n",
    "    circle = 2\n",
    "\n",
    "    def set_coords(self):\n",
    "        print('hello world')\n",
    "\n",
    "pt = Point()\n",
    "pt.set_coords()"
   ]
  },
  {
   "cell_type": "markdown",
   "metadata": {},
   "source": [
    "ВАЖНО:"
   ]
  },
  {
   "cell_type": "code",
   "execution_count": null,
   "metadata": {},
   "outputs": [],
   "source": [
    "Point.set_coords() # теперь выдаст ошибку, потому что когда вызывается метод из класса self не подставляется\n",
    "\n",
    "# Чтобы можно было обратится к методу, необходимо ссылатся на экземпляр:\n",
    "Point.set_coords(pt) - вызовет метод\n",
    "\n",
    "# Эквивалентная запись:\n",
    "pt.set_coords"
   ]
  },
  {
   "cell_type": "code",
   "execution_count": null,
   "metadata": {},
   "outputs": [
    {
     "name": "stdout",
     "output_type": "stream",
     "text": [
      "{'x': 1, 'y': 2}\n"
     ]
    }
   ],
   "source": [
    "class Point:\n",
    "    color = 'red'\n",
    "    circle = 2\n",
    "\n",
    "    def set_coords(self, x, y): # создаем в экземпляре два локальных свойства x и y, со значениями которыми передадим в параметрах метода (set_coords)\n",
    "        self.x = x\n",
    "        self.y = y\n",
    "        \n",
    "\n",
    "pt = Point()\n",
    "pt.set_coords(1, 2)\n",
    "print(pt.__dict__)"
   ]
  },
  {
   "cell_type": "markdown",
   "metadata": {},
   "source": [
    "т.е. self нам необходим, чтобы можно было работать с локальными атрибутами конкретного экземпляра класса.\n",
    "Когда в программе создается много экземпляров класса, то метод set_coords он не копируется отдельно в экземпляры, он как был в классе (Point) так в этом классе и остается и только благодаря параметру (self) мы знаем с какими экземплярами класса работает метод set_coords."
   ]
  },
  {
   "cell_type": "code",
   "execution_count": null,
   "metadata": {},
   "outputs": [],
   "source": [
    "f = getattr(pt, 'get_coords') # присваиваем переменной f значение экземпляра класса.\n",
    "print(f())"
   ]
  },
  {
   "cell_type": "markdown",
   "metadata": {},
   "source": [
    "### ИНИЦИАЛИЗАТОР И ФИНАЛИЗАТОР"
   ]
  },
  {
   "cell_type": "markdown",
   "metadata": {},
   "source": [
    "В каждом классе языка Python есть специальные магические методы. Начинаются и заканчиваются двумя подчёркиваниями.\n",
    "__имя магического метода__\n",
    "* __init__(self) - инициализатор объекта класса. (вызывается после создания экземпляра класса)\n",
    "* __del__(self) - финализатор класса. (вызывается перед удалением)"
   ]
  },
  {
   "cell_type": "code",
   "execution_count": 6,
   "metadata": {},
   "outputs": [
    {
     "name": "stdout",
     "output_type": "stream",
     "text": [
      "вызов __init__\n",
      "{'x': 3, 'y': 5}\n"
     ]
    }
   ],
   "source": [
    "# Пример\n",
    "class Point:\n",
    "    color = 'red'\n",
    "    circle = 2\n",
    "\n",
    "    def __init__(self, x, y):\n",
    "        print('вызов __init__') \n",
    "        self.x = x\n",
    "        self.y = y   \n",
    "\n",
    "pt = Point(3, 5) # Передаем 2 параметра сразу в класс, так как __init__ записал данные параметры в class Point.\n",
    "#pt.set_coords(1, 2) - ЭТО НЕ НУЖНО ПИСАТЬ ПРИ ИНИЦИАЛИЗАЦИИ, ТАК КАК ПРИ ПОМОЩИ ИНИЦИАЛИЗАТОРА __init__ можно обращаться к методу напрямую через класс\n",
    "\n",
    "print(pt.__dict__)"
   ]
  },
  {
   "cell_type": "markdown",
   "metadata": {},
   "source": [
    "ВАЖНО: Если мы передали 2 параметра def __init__(self, x, y) - то нужно передавать их при вызове:\n",
    "pt = Point(1, 2)\n",
    "если вызовешь без 2 параметров т.е. pt = Point() - возникнет ошибка"
   ]
  },
  {
   "cell_type": "markdown",
   "metadata": {},
   "source": [
    "МАГИЧЕСКИЙ МЕТОД __del__\n",
    "\n",
    "Автоматически вызывается, перед уничтожением экземпляра класса:\n",
    "def __del__(self, x, y):\n",
    "\n",
    "Как это работает: Интерпритатор в python имеет СБОРЩИК МУСОРА - это алгоритм который отслеживает объекты и как только они становятся ненужными он их удаляет. Пока на какой-либо объект ведет хотябы одна внешняя ссылка (pt = Point), он считается нужным, но как только пропадают все внешние ссылки \n",
    "(pt = 0), СБОРИЩИК МУСОРА удаляет объект."
   ]
  },
  {
   "cell_type": "markdown",
   "metadata": {},
   "source": [
    "МАГИЧЕСКИЙ МЕТОД __new__\n",
    "\n",
    "__new__() - вызывается перед созданием объекта класса\n",
    "                    | |\n",
    "                    | |\n",
    "                   \\   /\n",
    "                     .\n",
    "                Объект класса\n",
    "                    | |\n",
    "                    | |\n",
    "                   \\   /\n",
    "                     .  \n",
    "__init__() - вызывается после создания объекта класса\n",
    "                      \n"
   ]
  },
  {
   "cell_type": "markdown",
   "metadata": {},
   "source": [
    "В методе __new__ обязательным параметром является 'cls'\n",
    "\n",
    "    class Point:\n",
    "        def __new__(cls, *args, **kwargs)\n",
    "\n",
    "параметр cls ссылается на текущий класс Point, в отличии от self который ссылается на создаваемый экземпляр класса.       \n"
   ]
  },
  {
   "cell_type": "markdown",
   "metadata": {},
   "source": [
    "Начиная с версии Python 3.0, все классы автооматически и не явно, наследуются от базового класса object.\n",
    "object - и из этого базового класса мы как раз и вызываем метод __new__:\n",
    "\n",
    "class Object:\n",
    "    def __new__(cls):\n",
    "         .\n",
    "       /   \\\n",
    "        | |\n",
    "        | | метод super()\n",
    "        | |\n",
    "class Point: # Метод __new__ определяется в таком виде:\n",
    "    def __new__(cls, *args, **kwargs):\n",
    "        print('вызов метода __new__')\n",
    "        return super().__new__(cls) \n",
    "\n",
    "Т.е. когда мы вызываем метод super(), мы получаем ссылку на базовый класс и в этом базовом классе через ссылку (cls) вызываем метод __new__ и в этот магический метод запускает процесс создания экземпляра класса и возвращает адрес, нового созданного объекта."
   ]
  },
  {
   "cell_type": "markdown",
   "metadata": {},
   "source": [
    "### МЕТОДЫ КЛАССА @classmethod и @staticmethod"
   ]
  },
  {
   "cell_type": "markdown",
   "metadata": {},
   "source": [
    "Метод @classmethod - работает исключительно с атрибутами класса\n"
   ]
  },
  {
   "cell_type": "code",
   "execution_count": null,
   "metadata": {},
   "outputs": [
    {
     "name": "stdout",
     "output_type": "stream",
     "text": [
      "True\n"
     ]
    }
   ],
   "source": [
    "class Vector:\n",
    "    min_coord = 0\n",
    "    max_coord = 100\n",
    "    \n",
    "    @classmethod\n",
    "    def validate(cls, arg): # работает посредством ссылки на класс cls\n",
    "        return cls.min_coord <= arg <= cls.max_coord\n",
    " \n",
    "print(Vector.validate(5))   "
   ]
  },
  {
   "cell_type": "markdown",
   "metadata": {},
   "source": [
    "Метод @classmethod не может обращаться к локальным атрибутам экземпляра класса, так как он ссылается на класс (cls)."
   ]
  },
  {
   "cell_type": "code",
   "execution_count": 8,
   "metadata": {},
   "outputs": [
    {
     "name": "stdout",
     "output_type": "stream",
     "text": [
      "{'x': 1, 'y': 2}\n"
     ]
    }
   ],
   "source": [
    "# Пример использования в программе\n",
    "\n",
    "class Vector:\n",
    "    min_coord = 0\n",
    "    max_coord = 100\n",
    "    \n",
    "    @classmethod\n",
    "    def validate(cls, arg): # работает посредством ссылки на класс cls\n",
    "        return cls.min_coord <= arg <= cls.max_coord\n",
    "    \n",
    "    def __init__(self, x, y):\n",
    "        self.x = self.y = 0\n",
    "        if self.validate(x) and self.validate(y): # проверяет проходят ли х и у в указанный диапазон, если да, то они сохраняются и в последующем вывод\n",
    "            self.x = x\n",
    "            self.y = y\n",
    "    \n",
    "    def get_coord(self):\n",
    "        return self.x, self.y\n",
    "            \n",
    "v = Vector(1, 2)\n",
    "print(v.__dict__)\n"
   ]
  },
  {
   "cell_type": "markdown",
   "metadata": {},
   "source": [
    "Метод @staticmethod - с помощью него мы можем определять методы, которые не имеют доступа ни к атрибутам класса, ни к атрибумат экземпляра класса!\n",
    "\n",
    "Создается некая независимая функция, объявленная внутри класса."
   ]
  },
  {
   "cell_type": "code",
   "execution_count": null,
   "metadata": {},
   "outputs": [
    {
     "name": "stdout",
     "output_type": "stream",
     "text": [
      "5\n",
      "{'x': 1, 'y': 2}\n"
     ]
    }
   ],
   "source": [
    "class Vector:\n",
    "    min_coord = 0\n",
    "    max_coord = 100\n",
    "    \n",
    "    @classmethod\n",
    "    def validate(cls, arg): \n",
    "        return cls.min_coord <= arg <= cls.max_coord\n",
    "    \n",
    "    def __init__(self, x, y):\n",
    "        self.x = self.y = 0\n",
    "        if self.validate(x) and self.validate(y):\n",
    "            self.x = x\n",
    "            self.y = y\n",
    "        print(self.norm2(self.x, self.y)) # При этом, можно использовать (norm2) метод если мы пропишем его в функции.\n",
    "    \n",
    "    def get_coord(self):\n",
    "        return self.x, self.y\n",
    "    \n",
    "    @staticmethod\n",
    "    def norm2(x, y): \n",
    "        return x*x + y*y\n",
    "            \n",
    "v = Vector(1, 2)\n",
    "print(v.__dict__)"
   ]
  },
  {
   "cell_type": "markdown",
   "metadata": {},
   "source": [
    "СУЩЕСТВУЕТ 3 ТИПА МЕТОДОВ:\n",
    "\n",
    "1) ОБЫЧНЫЕ\n",
    "2) МЕТОДЫ КЛАССА\n",
    "3) СТАТИЧЕСКИ"
   ]
  },
  {
   "cell_type": "markdown",
   "metadata": {},
   "source": [
    "### РЕЖИМЫ ДОСТУПА public, private, protected. Сеттеры и геттеры."
   ]
  },
  {
   "cell_type": "markdown",
   "metadata": {},
   "source": [
    "Задачи: научиться использовать механизмы ограничения доступа к данным и методам класса извене - это основы инкапсуляции.\n"
   ]
  },
  {
   "cell_type": "markdown",
   "metadata": {},
   "source": [
    "Если не мы хотим, чтобы какой-либо програмист имел доступ к каким-либо локальным свойсвам экземпляра класса, то следует их помечать закрытыми.\n",
    "\n",
    "Как это делается:\n",
    "\n",
    "В python - это делается достаточно просто, если мы перед именем атрибута прописываем :\n",
    "\n",
    "attribute(без одного или двух подчеркиваний вначале) - публичное свойство (public). Устанавливается по умолчанию\n",
    "\n",
    "_attribute(с одним подчеркиванием) - режим доступа (protected). Служит для обращения внутри класса и во всех его дочерних классах.\n",
    "\n",
    "__attribute(с двумя подчеркиваниями) - режим доступа (private). Служит для обращения только внутри класса."
   ]
  },
  {
   "cell_type": "markdown",
   "metadata": {},
   "source": [
    "Дочерние класса - это классы которые наследуются от базового"
   ]
  },
  {
   "cell_type": "code",
   "execution_count": 10,
   "metadata": {},
   "outputs": [
    {
     "name": "stdout",
     "output_type": "stream",
     "text": [
      "вызов __init__\n",
      "1 2\n",
      "вызов __init__\n"
     ]
    }
   ],
   "source": [
    "#Пример _attribute\n",
    "class Point:\n",
    "    color = 'red'\n",
    "    circle = 2\n",
    "\n",
    "    def __init__(self, x, y):\n",
    "        print('вызов __init__') \n",
    "        self._x = x\n",
    "        self._y = y\n",
    "\n",
    "pt = Point(1, 2)\n",
    "print(pt._x, pt._y)\n",
    "            "
   ]
  },
  {
   "cell_type": "markdown",
   "metadata": {},
   "source": [
    "Описание: При запуске программы она работает, т.е. мы по прежнему можем через ссылку pt изве обращаться к свойствам x и y.\n",
    "Дело в том, что в python _attribute (с одним подчеркиванием), лишь сигнализирует програмисту, что данные свойства являются защищенными, но никак явно не ограничивает доступ к ним извне."
   ]
  },
  {
   "cell_type": "code",
   "execution_count": null,
   "metadata": {},
   "outputs": [
    {
     "name": "stdout",
     "output_type": "stream",
     "text": [
      "вызов __init__\n"
     ]
    },
    {
     "ename": "AttributeError",
     "evalue": "'Point' object has no attribute '__x'",
     "output_type": "error",
     "traceback": [
      "\u001b[1;31m---------------------------------------------------------------------------\u001b[0m",
      "\u001b[1;31mAttributeError\u001b[0m                            Traceback (most recent call last)",
      "Cell \u001b[1;32mIn[15], line 12\u001b[0m\n\u001b[0;32m      9\u001b[0m         \u001b[39mself\u001b[39m\u001b[39m.\u001b[39m__y \u001b[39m=\u001b[39m y\n\u001b[0;32m     11\u001b[0m pt \u001b[39m=\u001b[39m Point(\u001b[39m1\u001b[39m, \u001b[39m2\u001b[39m)\n\u001b[1;32m---> 12\u001b[0m \u001b[39mprint\u001b[39m(pt\u001b[39m.\u001b[39;49m__x, pt\u001b[39m.\u001b[39m__y)  \n",
      "\u001b[1;31mAttributeError\u001b[0m: 'Point' object has no attribute '__x'"
     ]
    }
   ],
   "source": [
    "#Пример __attribute\n",
    "class Point:\n",
    "    color = 'red'\n",
    "    circle = 2\n",
    "\n",
    "    def __init__(self, x, y):\n",
    "        print('вызов __init__') \n",
    "        self.__x = x\n",
    "        self.__y = y\n",
    "\n",
    "pt = Point(1, 2)\n",
    "print(pt.__x, pt.__y)  "
   ]
  },
  {
   "cell_type": "markdown",
   "metadata": {},
   "source": [
    "Описание: Если мы запустим программу, то теперь мы уже видим, что не можем на прямую обратиться к свойствам, через ссылку pt.\n"
   ]
  },
  {
   "cell_type": "code",
   "execution_count": null,
   "metadata": {},
   "outputs": [
    {
     "name": "stdout",
     "output_type": "stream",
     "text": [
      "{'_Point__x': 10, '_Point__y': 20}\n"
     ]
    }
   ],
   "source": [
    "#Но вот внутри класса, мы можем спокойно к ним обращатся\n",
    "class Point:\n",
    "    color = 'red'\n",
    "    circle = 2\n",
    "\n",
    "    def set_coord(self, x, y):\n",
    "        self.__x = x\n",
    "        self.__y = y\n",
    "\n",
    "pt = Point()\n",
    "pt.set_coord(10, 20)\n",
    "print(pt.__dict__)"
   ]
  },
  {
   "cell_type": "markdown",
   "metadata": {},
   "source": [
    "СЕТТЕРЫ И ГЕТТЕРЫ"
   ]
  },
  {
   "cell_type": "markdown",
   "metadata": {},
   "source": [
    "У нас в классе (Point) есть два вспомогательных метода set_coord и get_coord, которые работают с защищенными локальными атрибутами __x, __y, такие методы в ООП - называются сеттеры и геттеры (их ещё называют интерфейсными методами)\n",
    "\n",
    "Их значением в том, чтобы передавать значения между приватными (private) атрибутами класса, а также чтобы проверять их корректность.\n",
    "\n",
    "Сеттеры и Геттеры служат для того чтобы можно было обратится к private атрибутам, это правильный способ обращения."
   ]
  },
  {
   "cell_type": "code",
   "execution_count": null,
   "metadata": {},
   "outputs": [
    {
     "name": "stdout",
     "output_type": "stream",
     "text": [
      "(1, 2)\n"
     ]
    }
   ],
   "source": [
    "class Vector:\n",
    "  \n",
    "    def set_coord(self, x, y):\n",
    "            self.__x = x\n",
    "            self.__y = y\n",
    "    \n",
    "    def get_coord(self):\n",
    "        return self.__x, self.__y\n",
    "    \n",
    "    \n",
    "v = Vector()\n",
    "v.set_coord(1,2)\n",
    "print(v.get_coord())\n"
   ]
  },
  {
   "cell_type": "markdown",
   "metadata": {},
   "source": [
    "Модуль accessify\n",
    "\n",
    "Служит для того, чтобы к __attribut (с двойным подчеркиванием), невозможно было обратиться вообще\n",
    "\n",
    "Устанавливается : pip install accessify\n",
    "\n",
    "Доступ : from accessify import private, protected\n",
    "\n",
    "Эти декараторы (private, protected) позволяют надежнее защищать, нельзя будет обратиться даже через кодовые имена(_Point__x) к атрибутам с двойным подчеркиванием.\n",
    "\n",
    "\n"
   ]
  },
  {
   "cell_type": "code",
   "execution_count": null,
   "metadata": {},
   "outputs": [],
   "source": [
    "from accessify import private, protected\n",
    "class Vector:\n",
    "    \n",
    "    @private\n",
    "    def set_coord(self, x, y):\n",
    "            self.__x = x\n",
    "            self.__y = y\n",
    "    \n",
    "    def get_coord(self):\n",
    "        return self.__x, self.__y\n",
    "    \n",
    "    \n",
    "v = Vector()\n",
    "v.set_coord(1,2)\n",
    "print(v.get_coord()) # Возникнет ошибка"
   ]
  },
  {
   "cell_type": "markdown",
   "metadata": {},
   "source": [
    "Магические методы __setattr__, __getattribute__, __getattr__ и __delattr__ "
   ]
  },
  {
   "cell_type": "code",
   "execution_count": null,
   "metadata": {},
   "outputs": [],
   "source": [
    "#Повтор\n",
    "class Point:\n",
    "    min_coord = 0\n",
    "    max_coord = 100\n",
    "    \n",
    "    def __init__(self, x, y):\n",
    "        self.x = x\n",
    "        self.y = y\n",
    "         \n",
    "    def set_coord(self, x, y):\n",
    "        if self.min_coord <= x <= self.max_coord: # обращение к атрибутам класса min_coord и max_coord в методе происходит посредством ссылки self\n",
    "            self.x = x   #if min_coord <= x <= max_coord обратиться к ним без ссылки на класс в таком виде нельзя.\n",
    "            self.y = y\n",
    "\n",
    "pt1 = Point(1, 2)\n",
    "pt2 = Point(10, 20)          "
   ]
  },
  {
   "cell_type": "markdown",
   "metadata": {},
   "source": [
    "Заменить значение атрибутов класса (min_coord), можно посредством следующего способа. "
   ]
  },
  {
   "cell_type": "code",
   "execution_count": null,
   "metadata": {},
   "outputs": [
    {
     "name": "stdout",
     "output_type": "stream",
     "text": [
      "{'x': 1, 'y': 2}\n",
      "{'__module__': '__main__', 'min_coord': -100, 'max_coord': 100, '__init__': <function Point.__init__ at 0x0000023318D53E20>, 'set_coord': <function Point.set_coord at 0x0000023318D53BA0>, 'set_bound': <classmethod(<function Point.set_bound at 0x0000023318D52C00>)>, '__dict__': <attribute '__dict__' of 'Point' objects>, '__weakref__': <attribute '__weakref__' of 'Point' objects>, '__doc__': None}\n"
     ]
    }
   ],
   "source": [
    "\n",
    "class Point:\n",
    "    min_coord = 0\n",
    "    max_coord = 100\n",
    "    \n",
    "    def __init__(self, x, y):\n",
    "        self.x = x\n",
    "        self.y = y\n",
    "         \n",
    "    def set_coord(self, x, y):\n",
    "        if self.min_coord <= x <= self.max_coord: \n",
    "            self.x = x   \n",
    "            self.y = y\n",
    "            \n",
    "    #def set_bound(self, left): # если мы пропишем так, то создадим локальное свойство в экземпляре класса pt.\n",
    "        #self.min_coord = left  \n",
    "             \n",
    "    @classmethod\n",
    "    def set_bound(cls, left): # Таким способом мы можем заменить значение атрибута класса\n",
    "        cls.min_coord = left\n",
    "    \n",
    "    \n",
    "pt = Point(1, 2) \n",
    "pt.set_bound(-100)\n",
    "print(pt.__dict__)\n",
    "print(Point.__dict__)          "
   ]
  },
  {
   "cell_type": "markdown",
   "metadata": {},
   "source": [
    "* __setattr__(self, key, value)__-автоматически вызывается при изменении свойства key класса;\n",
    "\n",
    "* __getattribute__(self, item)__-автоматически вызывается при получении свойства класса с именем item;\n",
    "\n",
    "* __getattr__(self, item)__-автоматически вызывается при получении несуществующего свойства item класса;\n",
    "\n",
    "* __delattr__(self, item)__-автоматически вызывается при удалении свойства item (не важно: существует оно или нет)."
   ]
  },
  {
   "cell_type": "code",
   "execution_count": null,
   "metadata": {},
   "outputs": [
    {
     "name": "stdout",
     "output_type": "stream",
     "text": [
      " вызов __getattribute__\n",
      "1\n"
     ]
    }
   ],
   "source": [
    "\n",
    "class Point:\n",
    "    min_coord = 0\n",
    "    max_coord = 100\n",
    "    \n",
    "    def __init__(self, x, y):\n",
    "        self.x = x\n",
    "        self.y = y\n",
    "         \n",
    "    def set_coord(self, x, y):\n",
    "        if self.min_coord <= x <= self.max_coord: \n",
    "            self.x = x   \n",
    "            self.y = y\n",
    "            \n",
    "    def __getattribute__(self, item): #1)Метод автоматически вызывается когда идет считывание атрибута через экземпляр класса.\n",
    "        print(' вызов __getattribute__')\n",
    "        return object.__getattribute__(self, item) # 3)если мы поставим #return object.__getattribute__(self, item), то будет значение None, а не 1.\n",
    "                                                   #потому что эта функция без return вызывает None.\n",
    "    \n",
    "                                        #2)Поэтому чтобы он отработал корректно мы должны обратиться  к классу object от которого неявно наследуются все\n",
    "                                        #классы в python, после чего мы вызовем метод __getattribute__ в который передадим параметры (self,item)\n",
    "                                        #и так как этот метод должен возвращать значение того атрибута к которому мы обращались, поэтому добавим return\n",
    "                                        # КАК ТОЛЬКО ИДЕТ ОБРАЩЕНИЕ К КАКОМУ-ЛИБО АТРИБУТУ ЧЕРЕЗ ЭКЗЕМПЛЯР КЛАССА ТО СРАБАТЫВАЕМ МЕТОД __getattribute__\n",
    "        \n",
    "pt1 = Point(1, 2) \n",
    "pt2 = Point(10, 20)\n",
    "a = pt1.x #2) как только идет обращение к какому-либо атрибуту через экземпляр класса то срабатывает __getattribute__ и возвращает значение\n",
    "          # соответствующего атрибута\n",
    "print(a)  \n",
    "\n"
   ]
  },
  {
   "cell_type": "markdown",
   "metadata": {},
   "source": [
    "Вопрос, зачем может понадобится метод __getattribute__?\n"
   ]
  },
  {
   "cell_type": "code",
   "execution_count": null,
   "metadata": {},
   "outputs": [
    {
     "ename": "ValueError",
     "evalue": "Доступ запрещен",
     "output_type": "error",
     "traceback": [
      "\u001b[1;31m---------------------------------------------------------------------------\u001b[0m",
      "\u001b[1;31mValueError\u001b[0m                                Traceback (most recent call last)",
      "Cell \u001b[1;32mIn[10], line 23\u001b[0m\n\u001b[0;32m     21\u001b[0m pt1 \u001b[39m=\u001b[39m Point(\u001b[39m1\u001b[39m, \u001b[39m2\u001b[39m) \n\u001b[0;32m     22\u001b[0m pt2 \u001b[39m=\u001b[39m Point(\u001b[39m10\u001b[39m, \u001b[39m20\u001b[39m)\n\u001b[1;32m---> 23\u001b[0m a \u001b[39m=\u001b[39m pt1\u001b[39m.\u001b[39;49mx \u001b[39m#если поставить y ошибок не будет, выведет 2\u001b[39;00m\n\u001b[0;32m     24\u001b[0m \u001b[39mprint\u001b[39m(a)  \n",
      "Cell \u001b[1;32mIn[10], line 17\u001b[0m, in \u001b[0;36mPoint.__getattribute__\u001b[1;34m(self, item)\u001b[0m\n\u001b[0;32m     15\u001b[0m \u001b[39mdef\u001b[39;00m \u001b[39m__getattribute__\u001b[39m(\u001b[39mself\u001b[39m, item): \u001b[39m# если item принимает значени x будет сгенерировано исключение\u001b[39;00m\n\u001b[0;32m     16\u001b[0m     \u001b[39mif\u001b[39;00m item \u001b[39m==\u001b[39m \u001b[39m'\u001b[39m\u001b[39mx\u001b[39m\u001b[39m'\u001b[39m:\n\u001b[1;32m---> 17\u001b[0m         \u001b[39mraise\u001b[39;00m \u001b[39mValueError\u001b[39;00m(\u001b[39m'\u001b[39m\u001b[39mДоступ запрещен\u001b[39m\u001b[39m'\u001b[39m)\n\u001b[0;32m     18\u001b[0m     \u001b[39melse\u001b[39;00m: \n\u001b[0;32m     19\u001b[0m         \u001b[39mreturn\u001b[39;00m \u001b[39mobject\u001b[39m\u001b[39m.\u001b[39m\u001b[39m__getattribute__\u001b[39m(\u001b[39mself\u001b[39m, item)\n",
      "\u001b[1;31mValueError\u001b[0m: Доступ запрещен"
     ]
    }
   ],
   "source": [
    "# Пример запрет к обращению к атрибуту 'x'\n",
    "class Point:\n",
    "    min_coord = 0\n",
    "    max_coord = 100\n",
    "    \n",
    "    def __init__(self, x, y):\n",
    "        self.x = x\n",
    "        self.y = y\n",
    "         \n",
    "    def set_coord(self, x, y):\n",
    "        if self.min_coord <= x <= self.max_coord: \n",
    "            self.x = x   \n",
    "            self.y = y\n",
    "            \n",
    "    def __getattribute__(self, item): # если item принимает значени x будет сгенерировано исключение\n",
    "        if item == 'x':\n",
    "            raise ValueError('Доступ запрещен')\n",
    "        else: \n",
    "            return object.__getattribute__(self, item) \n",
    "        \n",
    "pt1 = Point(1, 2) \n",
    "pt2 = Point(10, 20)\n",
    "a = pt1.x #если поставить y ошибок не будет, выведет 2\n",
    "print(a)  "
   ]
  },
  {
   "cell_type": "markdown",
   "metadata": {},
   "source": [
    "Вопрос, зачем может понадобится метод __setattr__?\n",
    "\n",
    "Ответ: Он автоматически вызвается каждый раз, когда идет присвоение к какому-либо атрибуту определенного значения !"
   ]
  },
  {
   "cell_type": "code",
   "execution_count": null,
   "metadata": {},
   "outputs": [
    {
     "name": "stdout",
     "output_type": "stream",
     "text": [
      "вызов __setattr__\n",
      "вызов __setattr__\n",
      "вызов __setattr__\n",
      "вызов __setattr__\n"
     ]
    }
   ],
   "source": [
    "\n",
    "class Point:\n",
    "    min_coord = 0\n",
    "    max_coord = 100\n",
    "    \n",
    "    def __init__(self, x, y):\n",
    "        self.x = x\n",
    "        self.y = y\n",
    "         \n",
    "    def set_coord(self, x, y):\n",
    "        if self.min_coord <= x <= self.max_coord: \n",
    "            self.x = x   \n",
    "            self.y = y\n",
    "            \n",
    "    def __getattribute__(self, item): \n",
    "        if item == 'x':\n",
    "            raise ValueError('Доступ запрещен')\n",
    "        else: \n",
    "            return object.__getattribute__(self, item)\n",
    "    \n",
    "    def __setattr__(self, key, value): # key - имя атрибута, value - значение которое передается атрибута\n",
    "        print('вызов __setattr__')\n",
    "        object.__setattr__(self, key, value)        \n",
    "        \n",
    "pt1 = Point(1, 2) # 2 передачи значения в атрибут класса, в связи с чем будет вызван \"вызов __setattr__\" 2 раза\n",
    "pt2 = Point(10, 20) # 2 раза тоже самое, в связи с чем будет вызвано 4 раза\n"
   ]
  },
  {
   "cell_type": "markdown",
   "metadata": {},
   "source": [
    "С помощью __setattr__ мы можем запретить создавать какой-либо локальный атрибут в экземплярах класса"
   ]
  },
  {
   "cell_type": "code",
   "execution_count": null,
   "metadata": {},
   "outputs": [],
   "source": [
    "# Например, мы бы не хотели чтобы объявлялся атрибут с именем 'z'\n",
    "class Point:\n",
    "    min_coord = 0\n",
    "    max_coord = 100\n",
    "    \n",
    "    def __init__(self, x, y):\n",
    "        self.x = x\n",
    "        self.y = y\n",
    "         \n",
    "    def set_coord(self, x, y):\n",
    "        if self.min_coord <= x <= self.max_coord: \n",
    "            self.x = x   \n",
    "            self.y = y\n",
    "            \n",
    "    def __setattr__(self, key, value): \n",
    "        if key == 'z':\n",
    "            raise AttributeErrorError('Недопустимое имя атрибута')\n",
    "        else: \n",
    "            return object.__setattr__(self, key, value)\n",
    "                \n",
    "        \n",
    "pt1 = Point(1, 2)\n",
    "pt1.z = 5 # попытка создать локальный атрибут 'z' в экземпляре класса, приведет к ошибке"
   ]
  },
  {
   "cell_type": "markdown",
   "metadata": {},
   "source": [
    " __getattr__ вызывается автоматически каждый раз когда идет обращение к несуществующиму атрибуту экземпляра класса "
   ]
  },
  {
   "cell_type": "code",
   "execution_count": null,
   "metadata": {},
   "outputs": [
    {
     "name": "stdout",
     "output_type": "stream",
     "text": [
      "вызов метода __getattr__no_atrubet\n",
      "None\n"
     ]
    }
   ],
   "source": [
    "class Point:\n",
    "    min_coord = 0\n",
    "    max_coord = 100\n",
    "    \n",
    "    def __init__(self, x, y):\n",
    "        self.x = x\n",
    "        self.y = y\n",
    "         \n",
    "    def set_coord(self, x, y):\n",
    "        if self.min_coord <= x <= self.max_coord: \n",
    "            self.x = x   \n",
    "            self.y = y\n",
    "            \n",
    "    def __getattr__(self, item): \n",
    "        print('вызов метода __getattr__' + item)\n",
    "                \n",
    "        \n",
    "pt1 = Point(1, 2)\n",
    "print(pt1.no_atrubet) # в случае если мы обратимся к существующему атрибуту он выведется на экран (pt1.max_coord)\n"
   ]
  },
  {
   "cell_type": "markdown",
   "metadata": {},
   "source": [
    "C помощью __getattr__ к примеру, если идет обращение к несуществующему атрибуту экземпляра класса, то можно определить, чтобы возникало значение False"
   ]
  },
  {
   "cell_type": "code",
   "execution_count": null,
   "metadata": {},
   "outputs": [],
   "source": [
    "#-\\\\-\n",
    "def __getattr__(self, item): \n",
    "    return False\n",
    "\n",
    "print(pt1.yy)\n",
    "\n",
    ">>> False"
   ]
  },
  {
   "cell_type": "markdown",
   "metadata": {},
   "source": [
    "__delattr__ вызывается всякий раз когда удаляется определенный атрибут экземпляра класса\n"
   ]
  },
  {
   "cell_type": "code",
   "execution_count": null,
   "metadata": {},
   "outputs": [
    {
     "name": "stdout",
     "output_type": "stream",
     "text": [
      "вызов метода __delattr__ удаляет - x\n",
      "{'y': 2}\n"
     ]
    }
   ],
   "source": [
    "# Пример удаления атрибута\n",
    "class Point:\n",
    "    min_coord = 0\n",
    "    max_coord = 100\n",
    "    \n",
    "    def __init__(self, x, y):\n",
    "        self.x = x\n",
    "        self.y = y\n",
    "         \n",
    "    def set_coord(self, x, y):\n",
    "        if self.min_coord <= x <= self.max_coord: \n",
    "            self.x = x   \n",
    "            self.y = y\n",
    "            \n",
    "    def __delattr__(self, item): \n",
    "        print('вызов метода __delattr__' + \" удаляет - \" + item)\n",
    "        object.__delattr__(self, item)        \n",
    "        \n",
    "pt1 = Point(1, 2)\n",
    "del pt1.x\n",
    "print(pt1.__dict__)"
   ]
  },
  {
   "cell_type": "code",
   "execution_count": null,
   "metadata": {},
   "outputs": [
    {
     "name": "stdout",
     "output_type": "stream",
     "text": [
      "['P', 'y', 't', 'h', 'o', 'n']\n",
      "Yes\n"
     ]
    }
   ],
   "source": [
    "a = 'Python'\n",
    "print(list(a))\n",
    "if 'o' and 't' and 'h' in a:\n",
    "    print('Yes')"
   ]
  },
  {
   "cell_type": "markdown",
   "metadata": {},
   "source": [
    "Паттерн \"Моносостояние\""
   ]
  },
  {
   "cell_type": "markdown",
   "metadata": {},
   "source": [
    "Обозначает, что все экземпляры класса имеют единые (общие) локальные свойства.\n",
    "\n",
    "Изменение кого-либо локального свойтва в экземпляре класса отражается на всех экземплярах класса. \n",
    "\n",
    "Проще говоря, чтобы у нескольких экземпляров класс были одинаковые значения, которые мы можем менять все сразу в них, существует моносостояние."
   ]
  },
  {
   "cell_type": "code",
   "execution_count": null,
   "metadata": {},
   "outputs": [
    {
     "name": "stdout",
     "output_type": "stream",
     "text": [
      "{'name': 'thread_1', 'data': {}, 'id': 3, 'attribut': 'men'}\n",
      "{'name': 'thread_1', 'data': {}, 'id': 3, 'attribut': 'men'}\n"
     ]
    }
   ],
   "source": [
    "class ThreadData:\n",
    "    __shared_attrs = {\n",
    "        'name': 'thread_1',\n",
    "        'data': {},\n",
    "        'id': 1\n",
    "    }\n",
    "    \n",
    "    def __init__(self):\n",
    "        self.__dict__ = self.__shared_attrs\n",
    "    \n",
    "th1 = ThreadData()\n",
    "th2 = ThreadData()\n",
    "th2.id = 3\n",
    "th1.attribut = 'men'\n",
    "print(th1.__dict__)\n",
    "print(th2.__dict__)        "
   ]
  },
  {
   "cell_type": "markdown",
   "metadata": {},
   "source": [
    "На практике не часто применяется"
   ]
  },
  {
   "cell_type": "markdown",
   "metadata": {},
   "source": [
    "### NEW UNIT. Свойства property. Декоратор @property"
   ]
  },
  {
   "cell_type": "code",
   "execution_count": null,
   "metadata": {},
   "outputs": [
    {
     "name": "stdout",
     "output_type": "stream",
     "text": [
      "35\n"
     ]
    }
   ],
   "source": [
    "# класс для хранения и обработки данных о персонале\n",
    "class Person:\n",
    "    \n",
    "    def __init__(self, name, old):\n",
    "        self.__name = name\n",
    "        self.__old = old\n",
    "        \n",
    "    def get_old(self): # для обращения к private свойства используются геттер\n",
    "        return self.__old # выводит сохраненное значение\n",
    "    \n",
    "    def set_old(self, old): # дляобращения к private свойства используются сеттер\n",
    "        self.__old = old #будет сохранять (добавлять, содержать) введенное значение\n",
    "        \n",
    " # Обращение указывается таким образом (через сеттеры и геттеры)\n",
    " # чтобы не нарушалась внутрення логика алгоритма класса\n",
    "p = Person('Сергей', 20)\n",
    "p.set_old(35)\n",
    "print(p.get_old())          "
   ]
  },
  {
   "cell_type": "markdown",
   "metadata": {},
   "source": [
    "В связи с тем, что программисту чтобы обращаться к \"name\" необходимо будет создавать ещё одни сеттеры и геттеры (под новым именем), придется запонимать их, чтобы не перепутать и запомнить их существует декоратор @property, с помощью которого это можно изменить. Ниже пример: "
   ]
  },
  {
   "cell_type": "code",
   "execution_count": 2,
   "metadata": {},
   "outputs": [
    {
     "name": "stdout",
     "output_type": "stream",
     "text": [
      "{'_Person__name': 'Александр', '_Person__old': 22}\n"
     ]
    }
   ],
   "source": [
    "# класс для хранения и обработки данных о персонале\n",
    "# @property упрощяет работу\n",
    "class Person:\n",
    "    def __init__(self, name, old):\n",
    "        self.__name = name\n",
    "        self.__old = old\n",
    "        \n",
    "    def get_old(self): \n",
    "        return self.__old \n",
    "    \n",
    "    def set_old(self, old): \n",
    "        self.__old = old \n",
    "        \n",
    "    old = property(get_old, set_old)\n",
    "    \n",
    "    def get_name(self): \n",
    "        return self.__name \n",
    "    \n",
    "    def set_name(self, name): \n",
    "        self.__name = name \n",
    "        \n",
    "    name = property(get_name, set_name)   \n",
    "    \n",
    "p = Person('Сергей', 20)\n",
    "#p.__dict__['old'] = 'old in object p'\n",
    "p.old = 22 # В связи с тем, что (old) в класса, по приоретету выше, он не создается\n",
    "            # локальное значение (old) в экземпляре класса (p), а просто\n",
    "            # записывает или выводит переденное значени (22)\n",
    "p.name = 'Александр'            \n",
    "print(p.__dict__)"
   ]
  },
  {
   "cell_type": "markdown",
   "metadata": {},
   "source": [
    "Описание: в самом классе мы добавляем аттрибут, который называется old и он будет являтся, объектом класса property. Теперь мы, из каждого экземпляра класса можем совершенно спокойно обращатся к атрибуту old (этот атрибут является объектов класса property).\n",
    "\n",
    "Данный объект так устроен, что при считвании (a = p.old \\n print(a)), автоматически будет вызван get_old (вывод).\n",
    "А когда идет запись данных (p.old = 35 \\n print(p.old)), то автоматически будет вызван set_old (запись).\n",
    "\n",
    "Итог: В результате мы через один атрибут класса old можем считывать или записывать данные. Теперь у нас отпала необходимать запоминать именна сеттеров и геттеров."
   ]
  },
  {
   "cell_type": "markdown",
   "metadata": {},
   "source": [
    "Можно ещё больше упростить код, так как в вышеуказанном примере мы можем обращатся посредством (old) и сеттеров-геттеров, если мы хотим, чтобы был только один способ обращения пример ниже.\n",
    "P.s функция property() имеет в своем функционале декораторы setter, getter. deletter."
   ]
  },
  {
   "cell_type": "code",
   "execution_count": null,
   "metadata": {},
   "outputs": [
    {
     "name": "stdout",
     "output_type": "stream",
     "text": [
      "{'_Person__name': 'Сергей', '_Person__old': 22, 'name': 'Александр'}\n"
     ]
    }
   ],
   "source": [
    "class Person:\n",
    "    def __init__(self, name, old):\n",
    "        self.__name = name\n",
    "        self.__old = old\n",
    "        \n",
    "    @property    \n",
    "    def old(self): \n",
    "        return self.__old \n",
    "                \n",
    "    @old.setter\n",
    "    def old(self, old): \n",
    "        self.__old = old\n",
    "    \n",
    "    @old.deleter     \n",
    "    def old(self):\n",
    "        del self.__old\n",
    "            \n",
    "        \n",
    "p = Person('Сергей', 20)\n",
    "#del p.old\n",
    "p.old = 22 \n",
    "print(p.__dict__)"
   ]
  },
  {
   "cell_type": "markdown",
   "metadata": {},
   "source": [
    "Чаще всего на практике делают именно так!\n",
    "Т.е. если нужно создать объект свойства для работы с каким-то закрытым защищенным свойствам то прописывают вот такие вот декораторы и получается объект свойства"
   ]
  },
  {
   "cell_type": "markdown",
   "metadata": {},
   "source": [
    "### Наследование📌"
   ]
  },
  {
   "cell_type": "code",
   "execution_count": 11,
   "metadata": {},
   "outputs": [
    {
     "name": "stdout",
     "output_type": "stream",
     "text": [
      "Рисование линии\n",
      "Geom\n"
     ]
    }
   ],
   "source": [
    "class Geom:\n",
    "    name = 'Geom'\n",
    "    \n",
    "class Line:\n",
    "    def draw(self):\n",
    "        print('Рисование линии')\n",
    "        \n",
    "g = Geom()\n",
    "#g.draw() # не могу обратиться\n",
    "l = Line()\n",
    "l.draw() # могу обратиться \n",
    "print(g.name)            "
   ]
  },
  {
   "cell_type": "markdown",
   "metadata": {},
   "source": [
    "Вот этим два класса, это совершенно два разных пространства имен. Мы не можем обратится к нему посредством одного и того же экземпляра класса (g).\n",
    "📌Чтобы в вышеуказанное действие можно было произвести. Необходимо передать в параметры класса, название класса свойста и методы которого мы хотим наследовать, пример:"
   ]
  },
  {
   "cell_type": "code",
   "execution_count": null,
   "metadata": {},
   "outputs": [
    {
     "name": "stdout",
     "output_type": "stream",
     "text": [
      "Geom\n",
      "Рисование линии\n"
     ]
    }
   ],
   "source": [
    "class Geom:\n",
    "    name = 'Geom'\n",
    "    \n",
    "class Line(Geom): # передали в параметры название класса из которого хотим вызвать свойства/методы\n",
    "    def draw(self):\n",
    "        print('Рисование линии')\n",
    "        \n",
    "l = Line()\n",
    "print(l.name) # теперь можно спокойно обращатся к атрибуту name класса Geom\n",
    "l.draw()"
   ]
  },
  {
   "cell_type": "markdown",
   "metadata": {},
   "source": [
    "Когда один класс определяется на основе другого класса - это называется наследованием.\n",
    "\n",
    "Причем класс Geom - базовый или родительский класс.\n",
    "\n",
    "              / \\\n",
    "               |\n",
    "               |\n",
    "               \n",
    "Line - подкласс или дочерний класс.\n"
   ]
  },
  {
   "cell_type": "code",
   "execution_count": null,
   "metadata": {},
   "outputs": [],
   "source": [
    "#Для чего может понадобится наследование?\n",
    "class Geom:\n",
    "    name = 'Geom'\n",
    "    \n",
    "class Line(Geom): \n",
    "    def draw(self):\n",
    "        print('Рисование линии')\n",
    "    \n",
    "    def set_coords(self, x1, y1, x2, y2): # координаты начала и координаты конца\n",
    "        self.x1 = x1\n",
    "        self.y1 = y1\n",
    "        self.x2 = x2\n",
    "        self.y2 = y2\n",
    " \n",
    "class Rect(Geom): \n",
    "    def draw(self):\n",
    "        print('Рисование прямоугольника')\n",
    "    \n",
    "    def set_coords(self, x1, y1, x2, y2): # координаты начала и координаты конца\n",
    "        self.x1 = x1\n",
    "        self.y1 = y1\n",
    "        self.x2 = x2\n",
    "        self.y2 = y2             \n",
    "        \n",
    "l = Line()\n",
    "print(l.name) #\n",
    "l.draw()"
   ]
  },
  {
   "cell_type": "markdown",
   "metadata": {},
   "source": [
    "Что у нас получилось. Есть два класса Rect и Line. Так как у них схожие свойста происходит дублирование кода, чтобы это избежать необходимо общие свойства классов перенести в базовой т.е. Geom."
   ]
  },
  {
   "cell_type": "code",
   "execution_count": 13,
   "metadata": {},
   "outputs": [
    {
     "name": "stdout",
     "output_type": "stream",
     "text": [
      "{'x1': 1, 'y1': 1, 'x2': 2, 'y2': 2}\n",
      "{'x1': 3, 'y1': 2, 'x2': 2, 'y2': 2}\n"
     ]
    }
   ],
   "source": [
    "class Geom:\n",
    "    name = 'Geom'\n",
    "    \n",
    "    def set_coords(self, x1, y1, x2, y2): # координаты начала и координаты конца\n",
    "        self.x1 = x1\n",
    "        self.y1 = y1\n",
    "        self.x2 = x2\n",
    "        self.y2 = y2   \n",
    "    \n",
    "class Line(Geom): \n",
    "    def draw(self):\n",
    "        print('Рисование линии')\n",
    " \n",
    "class Rect(Geom): \n",
    "    def draw(self):\n",
    "        print('Рисование прямоугольника')\n",
    "                 \n",
    "        \n",
    "l = Line()\n",
    "r = Rect()\n",
    "l.set_coords(3, 2, 2, 2)\n",
    "r.set_coords(1, 1, 2, 2)\n",
    "print(r.__dict__)\n",
    "print(l.__dict__)"
   ]
  },
  {
   "cell_type": "markdown",
   "metadata": {},
   "source": [
    "💡Важный момент, что параметр def set_coords(self, x1, y1, x2, y2), ссылается уже не только на экземпляры класса l и r, но также и на дочерник классы Line и Rect.\n",
    "\n",
    "Также выжный момент. Почему бы мне не передать метод draw() из дочерних классов в родительский. Ответ: Все дело в том, что это может привести к ошибке, так как данного метода в родительском классе не существует."
   ]
  },
  {
   "cell_type": "code",
   "execution_count": null,
   "metadata": {},
   "outputs": [],
   "source": [
    "class Geom:\n",
    "    name = 'Geom'\n",
    "    \n",
    "    def set_coords(self, x1, y1, x2, y2): # координаты начала и координаты конца\n",
    "        self.x1 = x1\n",
    "        self.y1 = y1\n",
    "        self.x2 = x2\n",
    "        self.y2 = y2 \n",
    "        self.draw()  \n",
    "    \n",
    "class Line(Geom): \n",
    "    def draw(self):\n",
    "        print('Рисование линии')\n",
    " \n",
    "class Rect(Geom): \n",
    "    def draw(self):\n",
    "        print('Рисование прямоугольника')\n",
    "                 \n",
    "        \n",
    "g = Geom()\n",
    "g.set_coords(0, 0, 0, 0)"
   ]
  },
  {
   "cell_type": "markdown",
   "metadata": {},
   "source": [
    "Правило !: Вызывать внутри этого метода следует только те методы которые определы в классе (в нашем случае Geom) или его базовых классах, но не в дочерних иначе мы получим ошибку."
   ]
  },
  {
   "cell_type": "markdown",
   "metadata": {},
   "source": [
    "Что касаемо атрибутов. Когда происходит вызов атрибута из родительского класса. То сначала программа ищет атрибут в дочерних классах, а потом когда его не находит там, ищет в родительском классе где он присутсвует (в нашем примере, name).\n",
    "\n",
    "Но если мы в дочернем классе определим атрибут с таким же названием, он изначально будет вызван из этого дочернего класса, а не из родительского, пример ниже:"
   ]
  },
  {
   "cell_type": "code",
   "execution_count": null,
   "metadata": {},
   "outputs": [
    {
     "name": "stdout",
     "output_type": "stream",
     "text": [
      "Line\n",
      "Geom\n"
     ]
    }
   ],
   "source": [
    "class Geom:\n",
    "    name = 'Geom'\n",
    "    \n",
    "    def set_coords(self, x1, y1, x2, y2): # координаты начала и координаты конца\n",
    "        self.x1 = x1\n",
    "        self.y1 = y1\n",
    "        self.x2 = x2\n",
    "        self.y2 = y2 \n",
    "        self.draw()  \n",
    "    \n",
    "class Line(Geom):\n",
    "    name = 'Line' \n",
    "    def draw(self):\n",
    "        print('Рисование линии')\n",
    " \n",
    "class Rect(Geom): \n",
    "    def draw(self):\n",
    "        print('Рисование прямоугольника')\n",
    "\n",
    "l = Line()\n",
    "r = Rect()\n",
    "print(l.name)\n",
    "print(r.name)        "
   ]
  },
  {
   "cell_type": "markdown",
   "metadata": {},
   "source": [
    "Переопределение атрибутов и методов"
   ]
  },
  {
   "cell_type": "code",
   "execution_count": null,
   "metadata": {},
   "outputs": [
    {
     "name": "stdout",
     "output_type": "stream",
     "text": [
      "Рисование линии\n",
      "Рисование примитива\n"
     ]
    }
   ],
   "source": [
    "class Geom:\n",
    "    name = 'Geom'\n",
    "    \n",
    "    def draw(self):\n",
    "        print('Рисование примитива')\n",
    "    \n",
    "class Line(Geom):\n",
    "    name = 'Line' \n",
    "    def draw(self):\n",
    "        print('Рисование линии')\n",
    " \n",
    "class Rect(Geom): \n",
    "    pass\n",
    "\n",
    "l = Line()\n",
    "r = Rect()\n",
    "l.draw() # вызовет из своего класса\n",
    "r.draw() # вызовет из родительского"
   ]
  },
  {
   "cell_type": "markdown",
   "metadata": {},
   "source": [
    "Функция issubclass(). Наследование от встроенных типов и от object.\n",
    "\n"
   ]
  },
  {
   "cell_type": "markdown",
   "metadata": {},
   "source": [
    "object\n",
    "\n",
    "  .\n",
    " / \\\n",
    "  |\n",
    "  |\n",
    "\n",
    " Geom \n",
    "\n",
    " Как ранее в уроках было написано, что все классы наследуются от базового класса object. В связи с этим у класса Geom (pass) даже если он будет пустым, будут содержатся различные атрибуты (__class__, __delattr__, __dict__ и др.) Это все было сделано для того, чтобы у классы был стандартный функционал для работы."
   ]
  },
  {
   "cell_type": "code",
   "execution_count": 3,
   "metadata": {},
   "outputs": [
    {
     "name": "stdout",
     "output_type": "stream",
     "text": [
      "Geom\n"
     ]
    }
   ],
   "source": [
    "# К примеру, узнаем имя класса\n",
    "class Geom:\n",
    "    pass\n",
    "print(Geom.__name__)"
   ]
  },
  {
   "cell_type": "code",
   "execution_count": null,
   "metadata": {},
   "outputs": [],
   "source": [
    "# Также можем определить ещё один класс (дочерний) который будет использовать функционал obj\n",
    "class Geom:\n",
    "    pass\n",
    "\n",
    "class Line(Geom):\n",
    "    pass\n",
    "\n",
    "g = Geom()\n",
    "print(g)"
   ]
  },
  {
   "cell_type": "markdown",
   "metadata": {},
   "source": [
    "Цепочка наследования будет выглядеть уже так:\n",
    "object\n",
    "\n",
    "  .\n",
    " / \\\n",
    "  |\n",
    "  |\n",
    "\n",
    " Geom "
   ]
  },
  {
   "cell_type": "markdown",
   "metadata": {},
   "source": [
    "С помощь функции issubclass() мы можем определять является ли тот или иной класс подклассом, другого класса."
   ]
  },
  {
   "cell_type": "code",
   "execution_count": 11,
   "metadata": {},
   "outputs": [
    {
     "name": "stdout",
     "output_type": "stream",
     "text": [
      "True\n"
     ]
    }
   ],
   "source": [
    "class Geom:\n",
    "    pass\n",
    "\n",
    "class Line(Geom):\n",
    "    pass\n",
    "\n",
    "g = Geom()\n",
    "l = Line()\n",
    "print(issubclass(Line, Geom)) # функция определяет является ли Line подклассом класса Geom "
   ]
  },
  {
   "cell_type": "markdown",
   "metadata": {},
   "source": [
    "В качестве параметров в функцию issubclass, мы можем передавать только подклассы и классы, но не их экземпляры.\n",
    "Если нам необходимо определить принадлежность объекта к тому или иному экземпляру класса можно воспользоваться функцией isinstance(l, Geom)"
   ]
  },
  {
   "cell_type": "code",
   "execution_count": 12,
   "metadata": {},
   "outputs": [
    {
     "name": "stdout",
     "output_type": "stream",
     "text": [
      "True\n"
     ]
    }
   ],
   "source": [
    "class Geom:\n",
    "    pass\n",
    "\n",
    "class Line(Geom):\n",
    "    pass\n",
    "\n",
    "g = Geom()\n",
    "l = Line()\n",
    "print(isinstance(l, Geom))"
   ]
  },
  {
   "cell_type": "markdown",
   "metadata": {},
   "source": [
    "Интересный факт!\n",
    "\n",
    "Все типы данных в Python являются классами"
   ]
  },
  {
   "cell_type": "code",
   "execution_count": 13,
   "metadata": {},
   "outputs": [
    {
     "name": "stdout",
     "output_type": "stream",
     "text": [
      "1 2 3\n"
     ]
    }
   ],
   "source": [
    "class Vector(list): # list - это тип данных который выступает у нас как родительский класс\n",
    "    def __str__(self):\n",
    "        return \" \".join(map(str, self)) # возвращает сроку состоящую из элементов списка\n",
    "                                        # в экземпляр класса будет передаватся список,который\n",
    "                                        # будет переопределен в строку разделенную пробелом\n",
    "        \n",
    "\n",
    "v = Vector([1, 2, 3])\n",
    "print(v)\n"
   ]
  },
  {
   "cell_type": "markdown",
   "metadata": {},
   "source": [
    "Если у нас имеется некий базовый класс Geom и мы создаем дочерний класс Line в котором дополнительно прописан метод draw, то это называется расширением базового класса. Как правило дочерниe классы создаются, для расширения функциональности базового класса. Т.е. если в дочерний класса добавляются новые атрибуты, которые отсутсвовали в базовом - это называется расширением.\n",
    "\n",
    "Расширение и переопределение\n",
    "\n",
    "Geom      class Geom:\n",
    "              name = 'Geom'\n",
    " /\\\n",
    " ||\n",
    "\n",
    "Line      class Lime(Geom):                }\n",
    "            def draw(self):                } РАСШИРЕНИЕ \n",
    "                print('Рисование линии')   } (extended)"
   ]
  },
  {
   "cell_type": "markdown",
   "metadata": {},
   "source": [
    "Однако если в классе Geom прописать такой же метод draw, то уже получится ПЕРЕОПРЕДЕЛЕНИЕ. Т.е. поведение базового класса в дочернем вообщме-то не меняется, только несколько функциональность.\n",
    "\n",
    "class Geom:\n",
    "    name = 'Geom'\n",
    "    def draw(self):\n",
    "        print('Рисование линии')\n",
    "\n",
    "class Lime(Geom):\n",
    "    def draw(self):              } ПЕРЕОПРЕДЕЛЕНИЕ\n",
    "        print('Рисование линии') } (overriding)"
   ]
  },
  {
   "cell_type": "code",
   "execution_count": 2,
   "metadata": {},
   "outputs": [
    {
     "name": "stdout",
     "output_type": "stream",
     "text": [
      "инициализатор Geom\n"
     ]
    }
   ],
   "source": [
    "class Geom:\n",
    "    name = 'Geom'\n",
    "\n",
    "    def __init__(self):\n",
    "        print('инициализатор Geom')\n",
    "\n",
    "class Line(Geom):\n",
    "    \n",
    "    def draw(self):\n",
    "        print('Рисование линии')\n",
    "\n",
    "l = Line()  # После запуска мы видим, что сработал инициализатор Geom         "
   ]
  },
  {
   "cell_type": "markdown",
   "metadata": {},
   "source": [
    "Когда мы прописываем круглые скобки после имени класса l = Line(), то вызывается магический метод __call__, который в свою очередь, последовательно вызывает метод __new__ (для создания экземпляра класса), а затем метод __init__(для его инициализации). Так вот все эти методы изначально ищутся в дочернем класса Line. Если не находяться, то поиск переходит в Geom и далее по аналогии в object. Ниже визуализация:"
   ]
  },
  {
   "cell_type": "markdown",
   "metadata": {},
   "source": [
    "Порядок вызовов при создании объектов\n",
    "\n",
    "object <----- Geom\n",
    "                def __init__(self):\n",
    "                    print('инициализатор Geom')\n",
    "                        /\\\n",
    "                        ||\n",
    "                        ||\n",
    "               Line\n",
    "                 def draw(self):\n",
    "                    print('Рисование линий')\n",
    "        \n",
    "    l = Line()\n",
    "        |\n",
    "        |----------->  __call__(self, *args, **kwargs):\n",
    "                                obj = self.__new__(self, *args, **kwargs)\n",
    "                                self.__init__(self, *args, **kwargs)\n",
    "                                return obj        "
   ]
  },
  {
   "cell_type": "markdown",
   "metadata": {},
   "source": [
    "Важно. Метод __call__ ,берется из метaкласса"
   ]
  },
  {
   "cell_type": "code",
   "execution_count": 5,
   "metadata": {},
   "outputs": [
    {
     "name": "stdout",
     "output_type": "stream",
     "text": [
      "инициализатор Geom для <class '__main__.Line'>\n",
      "инициализатор Rect\n",
      "{'x1': 0, 'y1': 0, 'x2': 10, 'y2': 20}\n",
      "{'fill': None}\n"
     ]
    }
   ],
   "source": [
    "class Geom:\n",
    "    name = 'Geom'\n",
    "\n",
    "    def __init__(self, x1, y1, x2, y2):\n",
    "        print(f'инициализатор Geom для {self.__class__}')\n",
    "        self.x1 = x1\n",
    "        self.y1 = y1\n",
    "        self.x2 = x2\n",
    "        self.y2 = y2\n",
    "        \n",
    "class Line(Geom):\n",
    "    \n",
    "    def draw(self):\n",
    "        print('Рисование линии')\n",
    "\n",
    "class Rect(Geom):\n",
    "    \n",
    "    def __init__(self, x1, y1, x2, y2, fill=None):\n",
    "        print(f'инициализатор Rect')\n",
    "        self.fill = fill\n",
    "        \n",
    "    def draw(self):\n",
    "        print('Рисование прямоугольника')    \n",
    "         \n",
    "l = Line(0, 0, 10, 20)\n",
    "r = Rect(1, 2, 3, 4)\n",
    "print(l.__dict__)\n",
    "print(r.__dict__)\n",
    "\n",
    "#Из примера видно, что для класса Line, был вызван инициализатор из базового клаcc\n",
    "#Geom, а для дочернего класса Rect, он вызван не был, это связно с тем, что мы\n",
    "#там уже прописали инициализатор (__init__).\n"
   ]
  },
  {
   "cell_type": "markdown",
   "metadata": {},
   "source": [
    "Но нам же нужно помимо инициализации в Rect, передать координаты из класса Geom в Rect. Это делается следующим образом. Необходимо в классе Rect явно вызвать инициализотор базового класса. \n",
    "Данный метод называется ДЕЛЕГИРОВАНИЕМ.\n"
   ]
  },
  {
   "cell_type": "code",
   "execution_count": 7,
   "metadata": {},
   "outputs": [
    {
     "name": "stdout",
     "output_type": "stream",
     "text": [
      "инициализатор Geom для <class '__main__.Line'>\n",
      "инициализатор Geom для <class '__main__.Rect'>\n",
      "инициализатор Rect\n",
      "{'x1': 0, 'y1': 0, 'x2': 10, 'y2': 20}\n",
      "{'x1': 1, 'y1': 2, 'x2': 3, 'y2': 4, 'fill': None}\n"
     ]
    }
   ],
   "source": [
    "class Geom:\n",
    "    name = 'Geom'\n",
    "\n",
    "    def __init__(self, x1, y1, x2, y2):\n",
    "        print(f'инициализатор Geom для {self.__class__}')\n",
    "        self.x1 = x1\n",
    "        self.y1 = y1\n",
    "        self.x2 = x2\n",
    "        self.y2 = y2\n",
    "        \n",
    "class Line(Geom):\n",
    "    def draw(self):\n",
    "        print('Рисование линии')\n",
    "\n",
    "class Rect(Geom):\n",
    "    def __init__(self, x1, y1, x2, y2, fill=None):\n",
    "        #Geom.__init__(self, x1, y1, x2, y2) #вызвали инициализатор Geom. Однако явно указывать базовый класс это плохая практика. Потому что\n",
    "        super().__init__(x1, y1, x2, y2)    #имена базовых классов и иерархия наследования могут менятся, поэтому в пайтон для обращения к базовому\n",
    "        print(f'инициализатор Rect')           #классу используется специальная функция, которая называется \"super()\". Эта функция возвращает ссылку,\n",
    "        self.fill = fill                       # на так называемый объект посредник, через который происходит вызов метода из базового класса, поэтому\n",
    "                                               # и self писать уже не нужно, потому что super() возвращает объект и мы через объект уже вызываем метод\n",
    "                                               # __init__. Также важно инициализатор super() - вызывать всего в первую очередь(первой строкой)\n",
    "    def draw(self):\n",
    "        print('Рисование прямоугольника')    \n",
    "         \n",
    "l = Line(0, 0, 10, 20)\n",
    "r = Rect(1, 2, 3, 4)\n",
    "print(l.__dict__)\n",
    "print(r.__dict__)"
   ]
  },
  {
   "cell_type": "markdown",
   "metadata": {},
   "source": [
    "### Наследование. Атрибуты private и protected\n",
    "\n",
    "\n",
    "attribute(без одного или двух подчеркиваний вначале) - публичное свойство (public). Устанавливается по умолчанию\n",
    "\n",
    "_attribute(с одним подчеркиванием) - режим доступа (protected). Служит для обращения внутри класса и во всех его дочерних классах.\n",
    "\n",
    "__attribute(с двумя подчеркиваниями) - режим доступа (private). Служит для обращения только внутри класса."
   ]
  },
  {
   "cell_type": "code",
   "execution_count": 1,
   "metadata": {},
   "outputs": [
    {
     "name": "stdout",
     "output_type": "stream",
     "text": [
      "инициализатор Geom для <class '__main__.Rect'>\n",
      "{'_Geom__x1': 0, '_Geom__y1': 0, '_Geom__x2': 10, '_Geom__y2': 20, '_Rect__fill': 'red'}\n"
     ]
    }
   ],
   "source": [
    "class Geom:\n",
    "    name = 'Geom'\n",
    "    \n",
    "    def __init__(self, x1, y1, x2, y2):\n",
    "        print(f'инициализатор Geom для {self.__class__}')\n",
    "        self.__x1 = x1    \n",
    "        self.__y1 = y1\n",
    "        self.__x2 = x2\n",
    "        self.__y2 = y2\n",
    "        \n",
    "class Rect(Geom):\n",
    "    def __init__(self, x1, y1, x2, y2, fill='red'):\n",
    "        super().__init__(x1, y1, x2, y2)\n",
    "        self.__fill = fill\n",
    "\n",
    "r = Rect(0, 0, 10, 20)\n",
    "print(r.__dict__)                   "
   ]
  },
  {
   "cell_type": "markdown",
   "metadata": {},
   "source": [
    "1. У нас перед в выводе добавляется префикс _Geom__, а fill имеет префикс _Rect__ так как fill определен в классе Rect.\n",
    "\n",
    "2. Из этого вывод, свойства и атрибуты private формируется именно таким образом, при наследовании.\n",
    "\n",
    "3. Через класс Rect мы не можем обращатся к private атрибутам класса Geom. Ниже пример:"
   ]
  },
  {
   "cell_type": "code",
   "execution_count": 2,
   "metadata": {},
   "outputs": [
    {
     "name": "stdout",
     "output_type": "stream",
     "text": [
      "инициализатор Geom для <class '__main__.Rect'>\n"
     ]
    },
    {
     "ename": "AttributeError",
     "evalue": "'Rect' object has no attribute '_Rect__x1'",
     "output_type": "error",
     "traceback": [
      "\u001b[1;31m---------------------------------------------------------------------------\u001b[0m",
      "\u001b[1;31mAttributeError\u001b[0m                            Traceback (most recent call last)",
      "Cell \u001b[1;32mIn[2], line 20\u001b[0m\n\u001b[0;32m     17\u001b[0m         \u001b[39mreturn\u001b[39;00m (\u001b[39mself\u001b[39m\u001b[39m.\u001b[39m__x1, \u001b[39mself\u001b[39m\u001b[39m.\u001b[39m__y1) \u001b[39m#функция выводит координаты х1 и y1\u001b[39;00m\n\u001b[0;32m     19\u001b[0m r \u001b[39m=\u001b[39m Rect(\u001b[39m0\u001b[39m, \u001b[39m0\u001b[39m, \u001b[39m10\u001b[39m, \u001b[39m20\u001b[39m)\n\u001b[1;32m---> 20\u001b[0m r\u001b[39m.\u001b[39;49mget_coords() \u001b[39m# вызовет ошибку, так как идет обращение к private свойствам \u001b[39;00m\n\u001b[0;32m     21\u001b[0m \u001b[39mprint\u001b[39m(r\u001b[39m.\u001b[39m\u001b[39m__dict__\u001b[39m) \n",
      "Cell \u001b[1;32mIn[2], line 17\u001b[0m, in \u001b[0;36mRect.get_coords\u001b[1;34m(self)\u001b[0m\n\u001b[0;32m     16\u001b[0m \u001b[39mdef\u001b[39;00m \u001b[39mget_coords\u001b[39m(\u001b[39mself\u001b[39m):\n\u001b[1;32m---> 17\u001b[0m     \u001b[39mreturn\u001b[39;00m (\u001b[39mself\u001b[39;49m\u001b[39m.\u001b[39;49m__x1, \u001b[39mself\u001b[39m\u001b[39m.\u001b[39m__y1)\n",
      "\u001b[1;31mAttributeError\u001b[0m: 'Rect' object has no attribute '_Rect__x1'"
     ]
    }
   ],
   "source": [
    "class Geom:\n",
    "    name = 'Geom'\n",
    "    \n",
    "    def __init__(self, x1, y1, x2, y2):\n",
    "        print(f'инициализатор Geom для {self.__class__}')\n",
    "        self.__x1 = x1    \n",
    "        self.__y1 = y1\n",
    "        self.__x2 = x2\n",
    "        self.__y2 = y2\n",
    "        \n",
    "class Rect(Geom):\n",
    "    def __init__(self, x1, y1, x2, y2, fill='red'):\n",
    "        super().__init__(x1, y1, x2, y2)\n",
    "        self.__fill = fill\n",
    "    \n",
    "    def get_coords(self):\n",
    "        return (self.__x1, self.__y1) #функция выводит координаты х1 и y1\n",
    "\n",
    "r = Rect(0, 0, 10, 20)\n",
    "r.get_coords() # вызовет ошибку, так как идет обращение к private свойствам \n",
    "print(r.__dict__) "
   ]
  },
  {
   "cell_type": "markdown",
   "metadata": {},
   "source": [
    "Если мы определим метод get_coords в родительский класс, то сможем вывести координаты:"
   ]
  },
  {
   "cell_type": "code",
   "execution_count": 3,
   "metadata": {},
   "outputs": [
    {
     "name": "stdout",
     "output_type": "stream",
     "text": [
      "инициализатор Geom для <class '__main__.Rect'>\n",
      "{'_Geom__x1': 0, '_Geom__y1': 0, '_Geom__x2': 10, '_Geom__y2': 20, '_Rect__fill': 'red'}\n"
     ]
    }
   ],
   "source": [
    "class Geom:\n",
    "    name = 'Geom'\n",
    "    \n",
    "    def __init__(self, x1, y1, x2, y2):\n",
    "        print(f'инициализатор Geom для {self.__class__}')\n",
    "        self.__x1 = x1    \n",
    "        self.__y1 = y1\n",
    "        self.__x2 = x2\n",
    "        self.__y2 = y2\n",
    "    \n",
    "    def get_coords(self):\n",
    "        return (self.__x1, self.__y1)     \n",
    "        \n",
    "class Rect(Geom):\n",
    "    def __init__(self, x1, y1, x2, y2, fill='red'):\n",
    "        super().__init__(x1, y1, x2, y2)\n",
    "        self.__fill = fill\n",
    "\n",
    "r = Rect(0, 0, 10, 20)\n",
    "r.get_coords() \n",
    "print(r.__dict__) "
   ]
  },
  {
   "cell_type": "markdown",
   "metadata": {},
   "source": [
    "К приватным атрибутам можно обращатся только внутри того класса где они определены, во всех дочерних классх доступ запрещен. Это касается private атрибутов. Если мы пропишем protected то все работать будет, но так делать не рекомендуется."
   ]
  },
  {
   "cell_type": "markdown",
   "metadata": {},
   "source": [
    "## Полиморфизм\n",
    "\n",
    "* Полиморфизм - это возможность работы с совершенно разными объектами (языка Python) единым образом."
   ]
  },
  {
   "cell_type": "code",
   "execution_count": 6,
   "metadata": {},
   "outputs": [
    {
     "name": "stdout",
     "output_type": "stream",
     "text": [
      "6 14\n",
      "40 80\n"
     ]
    }
   ],
   "source": [
    "class Rectangle: #Прямоугольник\n",
    "    \n",
    "    def __init__(self, w, h): #стороны\n",
    "        self.w = w\n",
    "        self.h = h\n",
    "        \n",
    "    def get_rect_pr(self):\n",
    "        return 2*(self.w+self.h)\n",
    "\n",
    "class Square: #квадрат\n",
    "    \n",
    "    def __init__(self, a): #сторона\n",
    "        self.a = a\n",
    "    \n",
    "    def get_sq_pr(self):\n",
    "        return 4*self.a\n",
    "    \n",
    "r1 = Rectangle(1, 2)\n",
    "r2 = Rectangle(3, 4)\n",
    "s1 = Square(10)\n",
    "s2 = Square(20)\n",
    "\n",
    "print(r1.get_rect_pr(), r2.get_rect_pr())\n",
    "print(s1.get_sq_pr(), s2.get_sq_pr())"
   ]
  },
  {
   "cell_type": "code",
   "execution_count": null,
   "metadata": {},
   "outputs": [],
   "source": [
    "# Данный пример приведет к ошибке так как он, в цикле мы вызвали метод (g.get_rect_pr()) только для прямоугольника, как это исправить ниже реализации\n",
    "class Rectangle: \n",
    "    \n",
    "    def __init__(self, w, h): #стороны\n",
    "        self.w = w\n",
    "        self.h = h\n",
    "        \n",
    "    def get_rect_pr(self):\n",
    "        return 2*(self.w+self.h)\n",
    "\n",
    "class Square: #квадрат\n",
    "    \n",
    "    def __init__(self, a): #сторона\n",
    "        self.a = a\n",
    "    \n",
    "    def get_sq_pr(self):\n",
    "        return 4*self.a\n",
    "    \n",
    "r1 = Rectangle(1, 2)\n",
    "r2 = Rectangle(3, 4)\n",
    "s1 = Square(10)\n",
    "s2 = Square(20)\n",
    "\n",
    "geom = [r1, r2, s1, s2] # Давайте представим, если мы хотим отразить все периметры в одном списке\n",
    "for g in geom: # а потом перебрать в цикле\n",
    "    print(g.get_rect_pr())# а уже внутри цикла мы хотим вызвать методы классов для получения периметров"
   ]
  },
  {
   "cell_type": "code",
   "execution_count": 8,
   "metadata": {},
   "outputs": [
    {
     "name": "stdout",
     "output_type": "stream",
     "text": [
      "6\n",
      "14\n",
      "40\n",
      "80\n"
     ]
    }
   ],
   "source": [
    "#Код будет работать, но это реализацию не нужно использовать, в неё нет красоты и гибкости, так как если будет добавлен новый класс, она уже работать не будет\n",
    "class Rectangle: \n",
    "    \n",
    "    def __init__(self, w, h): #стороны\n",
    "        self.w = w\n",
    "        self.h = h\n",
    "        \n",
    "    def get_rect_pr(self):\n",
    "        return 2*(self.w+self.h)\n",
    "\n",
    "class Square: #квадрат\n",
    "    \n",
    "    def __init__(self, a): #сторона\n",
    "        self.a = a\n",
    "    \n",
    "    def get_sq_pr(self):\n",
    "        return 4*self.a\n",
    "    \n",
    "r1 = Rectangle(1, 2)\n",
    "r2 = Rectangle(3, 4)\n",
    "s1 = Square(10)\n",
    "s2 = Square(20)\n",
    "\n",
    "geom = [r1, r2, s1, s2] \n",
    "for g in geom:\n",
    "    if isinstance(g, Rectangle): # проверяме ссылается(является) ли g на Rectangle \n",
    "        print(g.get_rect_pr())\n",
    "    else:\n",
    "        print(g.get_sq_pr())    "
   ]
  },
  {
   "cell_type": "markdown",
   "metadata": {},
   "source": [
    "#### Реализация при помощи полиморфизма\n",
    "\n",
    "1. Давайте сделаем, так чтобы каждый метод (нахождения периметра) в каждом классе назывался одинаково.\n",
    "2. Соберем экземпляры класса в единый список.\n",
    "3. Пропустим их через цикл.\n",
    "4. Когда 1 итерация цикла будет выполнятся, к каждой итерации будет применен тот или иной метод, подходящий для экземпляра класса.\n",
    "\n",
    "**Ниже это пример полиморфизма, когда мы обращаемся к разным объектам через единый интерфейс. В данном случае через get_pr.**"
   ]
  },
  {
   "cell_type": "code",
   "execution_count": null,
   "metadata": {},
   "outputs": [],
   "source": [
    "\n",
    "class Rectangle: \n",
    "    \n",
    "    def __init__(self, w, h): \n",
    "        self.w = w\n",
    "        self.h = h\n",
    "        \n",
    "    def get_pr(self): #1\n",
    "        return 2*(self.w+self.h)\n",
    "\n",
    "class Square: \n",
    "    \n",
    "    def __init__(self, a): \n",
    "        self.a = a\n",
    "    \n",
    "    def get_pr(self): #1\n",
    "        return 4*self.a\n",
    "    \n",
    "class Triangle:\n",
    "    def __init__(self, a, b, c):\n",
    "        self.a = a\n",
    "        self.b = b\n",
    "        self.c = c\n",
    "     \n",
    "    def get_pr(self): #1\n",
    "        return self.a + self.b + self.c            \n",
    "    \n",
    "r1 = Rectangle(1, 2)\n",
    "r2 = Rectangle(3, 4)\n",
    "s1 = Square(10)\n",
    "s2 = Square(20)\n",
    "t1 = Triangle(1, 2, 3)\n",
    "t2 = Triangle(4, 5, 6)\n",
    "\n",
    "\n",
    "geom = [r1, r2, s1, s2, t1, t2]  #2\n",
    "for g in geom: #3\n",
    "    print(g.get_pr()) #4"
   ]
  },
  {
   "cell_type": "markdown",
   "metadata": {},
   "source": [
    "**Можем сделать ещё более красивее, если сформируем объекты класса сразу в списке.**"
   ]
  },
  {
   "cell_type": "code",
   "execution_count": 10,
   "metadata": {},
   "outputs": [
    {
     "name": "stdout",
     "output_type": "stream",
     "text": [
      "6\n",
      "14\n",
      "40\n",
      "80\n",
      "6\n",
      "15\n"
     ]
    }
   ],
   "source": [
    "class Rectangle: \n",
    "    \n",
    "    def __init__(self, w, h): \n",
    "        self.w = w\n",
    "        self.h = h\n",
    "        \n",
    "    def get_pr(self): #1\n",
    "        return 2*(self.w+self.h)\n",
    "\n",
    "class Square: \n",
    "    \n",
    "    def __init__(self, a): \n",
    "        self.a = a\n",
    "    \n",
    "    def get_pr(self): #1\n",
    "        return 4*self.a\n",
    "    \n",
    "class Triangle:\n",
    "    def __init__(self, a, b, c):\n",
    "        self.a = a\n",
    "        self.b = b\n",
    "        self.c = c\n",
    "     \n",
    "    def get_pr(self): #1\n",
    "        return self.a + self.b + self.c\n",
    "    \n",
    "geom = [Rectangle(1, 2), Rectangle(3, 4),  # Более элегатное представление\n",
    "        Square(10), Square(20), \n",
    "        Triangle(1, 2, 3), Triangle(4, 5, 6)\n",
    "        ]\n",
    "\n",
    "for g in geom:\n",
    "    print(g.get_pr())\n",
    "          "
   ]
  },
  {
   "cell_type": "markdown",
   "metadata": {},
   "source": [
    "Давайте разберем случай, если мы забыли указать(реализовать) какой-либо из методов (get_pr)\n",
    "\n",
    "Намерено уберем из класса Треугольник метод, будем считать что его там нету.\n",
    "\n",
    "Один из способов:\n",
    "\n",
    "1. Создать базовый класс, для всех этих приметивов.\n",
    "2. И в этом базовом классе определить метод get_pr, который бы работал по умолчанию, ну например возвращал бы -1. В случае если забыли будет выведено -1.\n",
    "\n",
    "**Но и это не самая лучшая реализация**"
   ]
  },
  {
   "cell_type": "code",
   "execution_count": 12,
   "metadata": {},
   "outputs": [
    {
     "name": "stdout",
     "output_type": "stream",
     "text": [
      "6\n",
      "14\n",
      "40\n",
      "80\n",
      "-1\n",
      "-1\n"
     ]
    }
   ],
   "source": [
    "class Geom:\n",
    "    def get_pr(self):\n",
    "       return -1  \n",
    "\n",
    "class Rectangle(Geom): \n",
    "    \n",
    "    def __init__(self, w, h): \n",
    "        self.w = w\n",
    "        self.h = h\n",
    "        \n",
    "    def get_pr(self): #1\n",
    "        return 2*(self.w+self.h)\n",
    "\n",
    "class Square(Geom): \n",
    "    \n",
    "    def __init__(self, a): \n",
    "        self.a = a\n",
    "    \n",
    "    def get_pr(self): #1\n",
    "        return 4*self.a\n",
    "    \n",
    "class Triangle(Geom):\n",
    "    def __init__(self, a, b, c):\n",
    "        self.a = a\n",
    "        self.b = b\n",
    "        self.c = c\n",
    "     \n",
    "    #def get_pr(self):\n",
    "    #    return self.a + self.b + self.c\n",
    "    \n",
    "geom = [Rectangle(1, 2), Rectangle(3, 4),  # Более элегатное представление\n",
    "        Square(10), Square(20), \n",
    "        Triangle(1, 2, 3), Triangle(4, 5, 6)\n",
    "        ]\n",
    "\n",
    "for g in geom:\n",
    "    print(g.get_pr())"
   ]
  },
  {
   "cell_type": "markdown",
   "metadata": {},
   "source": [
    "Все же нам бы хотелось, чтобы каждый дочерний класс имел бы обязательную реализацию метода (get_pr). Как этом можно сделать.\n",
    "\n",
    "1. Один из рекомендуемых способов, добавить в метод get_pr генерацию специального исключения."
   ]
  },
  {
   "cell_type": "code",
   "execution_count": 13,
   "metadata": {},
   "outputs": [
    {
     "name": "stdout",
     "output_type": "stream",
     "text": [
      "6\n",
      "14\n",
      "40\n",
      "80\n"
     ]
    },
    {
     "ename": "NotImplementedError",
     "evalue": "В дочернем классе должен быть переопределен метод get_pr()",
     "output_type": "error",
     "traceback": [
      "\u001b[1;31m---------------------------------------------------------------------------\u001b[0m",
      "\u001b[1;31mNotImplementedError\u001b[0m                       Traceback (most recent call last)",
      "Cell \u001b[1;32mIn[13], line 37\u001b[0m\n\u001b[0;32m     31\u001b[0m geom \u001b[39m=\u001b[39m [Rectangle(\u001b[39m1\u001b[39m, \u001b[39m2\u001b[39m), Rectangle(\u001b[39m3\u001b[39m, \u001b[39m4\u001b[39m),  \u001b[39m# Более элегатное представление\u001b[39;00m\n\u001b[0;32m     32\u001b[0m         Square(\u001b[39m10\u001b[39m), Square(\u001b[39m20\u001b[39m), \n\u001b[0;32m     33\u001b[0m         Triangle(\u001b[39m1\u001b[39m, \u001b[39m2\u001b[39m, \u001b[39m3\u001b[39m), Triangle(\u001b[39m4\u001b[39m, \u001b[39m5\u001b[39m, \u001b[39m6\u001b[39m)\n\u001b[0;32m     34\u001b[0m         ]\n\u001b[0;32m     36\u001b[0m \u001b[39mfor\u001b[39;00m g \u001b[39min\u001b[39;00m geom:\n\u001b[1;32m---> 37\u001b[0m     \u001b[39mprint\u001b[39m(g\u001b[39m.\u001b[39;49mget_pr())\n",
      "Cell \u001b[1;32mIn[13], line 3\u001b[0m, in \u001b[0;36mGeom.get_pr\u001b[1;34m(self)\u001b[0m\n\u001b[0;32m      2\u001b[0m \u001b[39mdef\u001b[39;00m \u001b[39mget_pr\u001b[39m(\u001b[39mself\u001b[39m):\n\u001b[1;32m----> 3\u001b[0m    \u001b[39mraise\u001b[39;00m \u001b[39mNotImplementedError\u001b[39;00m(\u001b[39m'\u001b[39m\u001b[39mВ дочернем классе должен быть переопределен метод get_pr()\u001b[39m\u001b[39m'\u001b[39m)\n",
      "\u001b[1;31mNotImplementedError\u001b[0m: В дочернем классе должен быть переопределен метод get_pr()"
     ]
    }
   ],
   "source": [
    "class Geom:\n",
    "    def get_pr(self):\n",
    "       raise NotImplementedError('В дочернем классе должен быть переопределен метод get_pr()')  \n",
    "\n",
    "class Rectangle(Geom): \n",
    "    \n",
    "    def __init__(self, w, h): \n",
    "        self.w = w\n",
    "        self.h = h\n",
    "        \n",
    "    def get_pr(self): #1\n",
    "        return 2*(self.w+self.h)\n",
    "\n",
    "class Square(Geom): \n",
    "    \n",
    "    def __init__(self, a): \n",
    "        self.a = a\n",
    "    \n",
    "    def get_pr(self): #1\n",
    "        return 4*self.a\n",
    "    \n",
    "class Triangle(Geom):\n",
    "    def __init__(self, a, b, c):\n",
    "        self.a = a\n",
    "        self.b = b\n",
    "        self.c = c\n",
    "     \n",
    "    #def get_pr(self):\n",
    "    #    return self.a + self.b + self.c\n",
    "    \n",
    "geom = [Rectangle(1, 2), Rectangle(3, 4),  # Более элегатное представление\n",
    "        Square(10), Square(20), \n",
    "        Triangle(1, 2, 3), Triangle(4, 5, 6)\n",
    "        ]\n",
    "\n",
    "for g in geom:\n",
    "    print(g.get_pr())"
   ]
  },
  {
   "cell_type": "markdown",
   "metadata": {},
   "source": [
    "#### В языках программирования методы которые обязательное нужно переопределять в дочерних классах и которые не имеют своей собственной реализации - называются *абстрактными* \n",
    "\n",
    "но в Python нет чисто абстрактных методов, мы лишь выполняем имитацию их поведения, заставляя программиста переопределить метод get_pr в дочерних классах."
   ]
  },
  {
   "cell_type": "code",
   "execution_count": 2,
   "metadata": {},
   "outputs": [
    {
     "ename": "NotImplementedError",
     "evalue": "Должно быть введенно значение",
     "output_type": "error",
     "traceback": [
      "\u001b[1;31m---------------------------------------------------------------------------\u001b[0m",
      "\u001b[1;31mNotImplementedError\u001b[0m                       Traceback (most recent call last)",
      "Cell \u001b[1;32mIn[2], line 40\u001b[0m\n\u001b[0;32m     34\u001b[0m geom \u001b[39m=\u001b[39m [Rectangle(\u001b[39m1\u001b[39m, \u001b[39m2\u001b[39m),\n\u001b[0;32m     35\u001b[0m         Square(\u001b[39m4\u001b[39m),\n\u001b[0;32m     36\u001b[0m         Triangle(\u001b[39m1\u001b[39m, \u001b[39m2\u001b[39m, \u001b[39m3\u001b[39m)  \n\u001b[0;32m     37\u001b[0m ]   \n\u001b[0;32m     39\u001b[0m \u001b[39mfor\u001b[39;00m g \u001b[39min\u001b[39;00m geom:\n\u001b[1;32m---> 40\u001b[0m     \u001b[39mprint\u001b[39m(g\u001b[39m.\u001b[39;49mget_pr())   \n",
      "Cell \u001b[1;32mIn[2], line 3\u001b[0m, in \u001b[0;36mGeom.get_pr\u001b[1;34m(self)\u001b[0m\n\u001b[0;32m      2\u001b[0m \u001b[39mdef\u001b[39;00m \u001b[39mget_pr\u001b[39m(\u001b[39mself\u001b[39m):\n\u001b[1;32m----> 3\u001b[0m     \u001b[39mraise\u001b[39;00m \u001b[39mNotImplementedError\u001b[39;00m(\u001b[39m'\u001b[39m\u001b[39mДолжно быть введенно значение\u001b[39m\u001b[39m'\u001b[39m)\n",
      "\u001b[1;31mNotImplementedError\u001b[0m: Должно быть введенно значение"
     ]
    }
   ],
   "source": [
    "class Geom:\n",
    "    def get_pr(self):\n",
    "        raise NotImplementedError('Должно быть введенно значение')\n",
    "\n",
    "\n",
    "class Rectangle(Geom):\n",
    "    \n",
    "    def __init__(self, x, y) :\n",
    "        self.x = x\n",
    "        self.y = y\n",
    "    \n",
    "    def get_pr(self):\n",
    "        return 2 * (self.x + self.y)\n",
    "    \n",
    "class Square(Geom):\n",
    "    \n",
    "    def __init__(self, x) :\n",
    "        self.x = x\n",
    "        \n",
    "    def get_pr(self):\n",
    "        return 4 * self.x \n",
    "\n",
    "class Triangle(Geom):\n",
    "    \n",
    "    def __init__(self, x, y, x1) :\n",
    "        self.x = x\n",
    "        self.y = y\n",
    "        self.x1 = x1\n",
    "        \n",
    "    def get_pr(self):\n",
    "        return self.x + self.y + self.x1\n",
    "    \n",
    "     \n",
    "geom = [Rectangle(1, 2),\n",
    "        Square(4),\n",
    "        Triangle(1, 2, 3)  \n",
    "]   \n",
    "         \n",
    "for g in geom:\n",
    "    print(g.get_pr())   "
   ]
  },
  {
   "cell_type": "markdown",
   "metadata": {},
   "source": [
    "### Метаклассы.Объект type"
   ]
  },
  {
   "cell_type": "markdown",
   "metadata": {},
   "source": [
    "Объекты:<br>                    Классы, объекты:        Метакласс:\n",
    "False<br>                       bool<br>  \n",
    "\"Hello\"<br>                     str<br>                    \n",
    "56.78<br>       ------->        float<br>  -------->    метакласс, класс, объект\n",
    "[1, 2, 3]<br>                   list<br> \n",
    "123<br>                         int<br>  \n",
    "{5: \"Отлично\"}<br>              dict<br> \n",
    "...                             ...\n"
   ]
  },
  {
   "cell_type": "markdown",
   "metadata": {},
   "source": [
    "Все в пайтон является объектами, эти объекты образованы от (классов, объектов), но эти классы также являются объектами, а раз классы это объекты, то должно быть нечто, что создает и их. Это нечто в пайтон называется **метаклассами**\n",
    "\n",
    "Метакласс:\n",
    "* объект особого рода\n",
    "* особый объект который поражадает другие классы, объекты\n",
    "* **метакласс - нельзя динамически порождать, каким нибудь другим метаклассом, он является вершиной отправной точкой для создания обычных классов и как следствия их объектов.**\n",
    "\n",
    "В языке Python метаклассом являетя объект **type()**:\n",
    "* type(объект) определяет тип объекта если передать только 1 параметр\n",
    "* type(name, bases, dct), если передать в него 3 параметра, (имя класса, список родительских классов, словарь с атрибутами), то данный объект начинает работать совершенно по другому. **А именно создает динамически новый класс, новый тип данных**"
   ]
  },
  {
   "cell_type": "code",
   "execution_count": 4,
   "metadata": {},
   "outputs": [
    {
     "name": "stdout",
     "output_type": "stream",
     "text": [
      "<class 'type'>\n",
      "<class 'type'>\n",
      "<class 'type'>\n"
     ]
    }
   ],
   "source": [
    "#Пример того, что класс integer и др. - порождены от метакласса \n",
    "print(type(int))\n",
    "print(type(str))\n",
    "\n",
    "class A: pass\n",
    "print(type(A))"
   ]
  },
  {
   "cell_type": "markdown",
   "metadata": {},
   "source": [
    "Все что порождается в языке Python, это все происходит за счёт вот этого метакласса type.\n",
    "\n",
    "**Важно!!!**\n",
    "\n",
    "Метаклассы - это глубокая магия, о которой 99% пользователей даже не нужно задумываться. Если вы думаете, нужно ли вам их использовать - вам не нужно (люди, которым они реально нужны, точно знают, зачем они им, и не нуждаются в объяснениях, почему).\n"
   ]
  },
  {
   "cell_type": "code",
   "execution_count": 8,
   "metadata": {},
   "outputs": [
    {
     "data": {
      "text/plain": [
       "__main__.Point"
      ]
     },
     "execution_count": 8,
     "metadata": {},
     "output_type": "execute_result"
    }
   ],
   "source": [
    "#Пример создания динамически класса\n",
    "\n",
    "A = type('Point', (), {'MAX_COORD': 100, 'MIN_COORD': 0})\n",
    "#() - родительских классов здесь нет, поэтому указываем пустой список\n",
    "# эквивалетно записи:\n",
    "A\n",
    "#class Point:\n",
    "    #MAX_COORD = 100\n",
    "    #MIN_COORD = 0"
   ]
  },
  {
   "cell_type": "code",
   "execution_count": 9,
   "metadata": {},
   "outputs": [
    {
     "data": {
      "text/plain": [
       "100"
      ]
     },
     "execution_count": 9,
     "metadata": {},
     "output_type": "execute_result"
    }
   ],
   "source": [
    "pt = A()\n",
    "pt.MAX_COORD"
   ]
  },
  {
   "cell_type": "code",
   "execution_count": 10,
   "metadata": {},
   "outputs": [
    {
     "data": {
      "text/plain": [
       "(__main__.Point, __main__.B1, __main__.B2, object)"
      ]
     },
     "execution_count": 10,
     "metadata": {},
     "output_type": "execute_result"
    }
   ],
   "source": [
    "# Создадим класс Point который наследуется от базовых классов В1 и В2\n",
    "class B1: pass\n",
    "class B2: pass\n",
    "A = type('Point', (B1, B2), {'MAX_COORD': 100, 'MIN_COORD': 0})\n",
    "A.__mro__"
   ]
  },
  {
   "cell_type": "markdown",
   "metadata": {},
   "source": [
    "Ну и конечно же, когда мы создаем классы то в них можно создавать и методы. Т.е. это тоже атрибуты, которые ссылаются, на объект-функцию. Функции приходится создавать отдельно.\n"
   ]
  },
  {
   "cell_type": "code",
   "execution_count": 12,
   "metadata": {},
   "outputs": [
    {
     "name": "stdout",
     "output_type": "stream",
     "text": [
      "hello world\n"
     ]
    }
   ],
   "source": [
    "def method1(self):\n",
    "    print('hello world')\n",
    "    \n",
    "A = type('Point', (B1, B2), {'MAX_COORD': 100, 'method1': method1})\n",
    "pt = A()\n",
    "\n",
    "pt.method1()"
   ]
  },
  {
   "cell_type": "code",
   "execution_count": 13,
   "metadata": {},
   "outputs": [
    {
     "data": {
      "text/plain": [
       "100"
      ]
     },
     "execution_count": 13,
     "metadata": {},
     "output_type": "execute_result"
    }
   ],
   "source": [
    "# пример с использование лямда функции\n",
    "A = type('Point', (B1, B2), {'MAX_COORD': 100, 'method1': lambda self: self.MAX_COORD})\n",
    "pt = A()\n",
    "\n",
    "pt.method1()"
   ]
  },
  {
   "cell_type": "markdown",
   "metadata": {},
   "source": [
    "**В Python мы можем конструировать свои собственные метаклассы**"
   ]
  },
  {
   "cell_type": "code",
   "execution_count": null,
   "metadata": {},
   "outputs": [],
   "source": [
    "#Пример, предположим что мы хоти создать класс Point\n",
    "#class Point:\n",
    "    #MAX_COORD = 100\n",
    "    #MIN_COORD = 0\n",
    "    \n",
    "def create_class_point(name, base, attrs): #имя класса, список базовых классов, словарь аттрибутов класса\n",
    "    attrs.update({'MAX_COORD': 100, 'MIN_COORD': 0})\n",
    "    return type(name, base, attrs)\n",
    "\n",
    "#Вот так выглядит простейший метокласс, созданный при помощи функции \n"
   ]
  },
  {
   "cell_type": "markdown",
   "metadata": {},
   "source": [
    "Метакласс в нашем случаем представляет собой функцию. Применить его можно вот так. Это учебный вариант. На практике так работают редко."
   ]
  },
  {
   "cell_type": "code",
   "execution_count": 1,
   "metadata": {},
   "outputs": [
    {
     "name": "stdout",
     "output_type": "stream",
     "text": [
      "100\n",
      "(0, 0)\n"
     ]
    }
   ],
   "source": [
    "def create_class_point(name, base, attrs): \n",
    "    attrs.update({'MAX_COORD': 100, 'MIN_COORD': 0})\n",
    "    return type(name, base, attrs)\n",
    "\n",
    "class Point(metaclass=create_class_point):\n",
    "    def get_coords(self):\n",
    "        return (0, 0)\n",
    "\n",
    "pt = Point()\n",
    "print(pt.MAX_COORD)\n",
    "print(pt.get_coords())    "
   ]
  },
  {
   "cell_type": "markdown",
   "metadata": {},
   "source": [
    "На практике чаще работают именно так:"
   ]
  },
  {
   "cell_type": "code",
   "execution_count": 2,
   "metadata": {},
   "outputs": [
    {
     "name": "stdout",
     "output_type": "stream",
     "text": [
      "100\n",
      "(0, 0)\n"
     ]
    }
   ],
   "source": [
    "class Meta(type):\n",
    "    def __new__(cls, name, base, attrs):\n",
    "        attrs.update({'MAX_COORD': 100, 'MIN_COORD': 0})\n",
    "        return type.__new__(cls, name, base, attrs)\n",
    "        \n",
    "            \n",
    "class Point(metaclass=create_class_point):\n",
    "    def get_coords(self):\n",
    "        return (0, 0)\n",
    "\n",
    "pt = Point()\n",
    "print(pt.MAX_COORD)\n",
    "print(pt.get_coords())  "
   ]
  }
 ],
 "metadata": {
  "kernelspec": {
   "display_name": "Python 3",
   "language": "python",
   "name": "python3"
  },
  "language_info": {
   "codemirror_mode": {
    "name": "ipython",
    "version": 3
   },
   "file_extension": ".py",
   "mimetype": "text/x-python",
   "name": "python",
   "nbconvert_exporter": "python",
   "pygments_lexer": "ipython3",
   "version": "3.12.0b1"
  },
  "orig_nbformat": 4
 },
 "nbformat": 4,
 "nbformat_minor": 2
}
