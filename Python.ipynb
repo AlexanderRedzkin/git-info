{
 "cells": [
  {
   "cell_type": "markdown",
   "metadata": {},
   "source": [
    "## Основные методы строк"
   ]
  },
  {
   "cell_type": "code",
   "execution_count": 1,
   "metadata": {},
   "outputs": [
    {
     "data": {
      "text/plain": [
       "str"
      ]
     },
     "execution_count": 1,
     "metadata": {},
     "output_type": "execute_result"
    }
   ],
   "source": [
    "s = 'python' \n",
    "type(s) # строка"
   ]
  },
  {
   "cell_type": "markdown",
   "metadata": {},
   "source": [
    "#### *Так вот каждый такой тип к примеру (str) связан с определенным набором функций и эти функции называются - методы* \n",
    "Чтобы вызвать какой-либо метод необходимо использовать следующий синтаксис:\n",
    "\n",
    "__объект.метод(аргументы)__<br>\n",
    "(объектом может быть определенная строка или переменная, при этом после метода всегда должны идти круглые скобки) "
   ]
  },
  {
   "cell_type": "markdown",
   "metadata": {},
   "source": [
    "#### Метод __upper__ приобразует все малые буквенные символы в заглавные:"
   ]
  },
  {
   "cell_type": "code",
   "execution_count": 6,
   "metadata": {},
   "outputs": [
    {
     "name": "stdout",
     "output_type": "stream",
     "text": [
      "PYTHON\n"
     ]
    }
   ],
   "source": [
    "s.upper()\n",
    "\n",
    "res = s.upper() # сохранили результат выполнения метода в переменную \n",
    "print(res)"
   ]
  },
  {
   "cell_type": "markdown",
   "metadata": {},
   "source": [
    "#### Метод __lower__ приобразует все заглавные буквы в малые буквенные символы:"
   ]
  },
  {
   "cell_type": "code",
   "execution_count": 7,
   "metadata": {},
   "outputs": [
    {
     "data": {
      "text/plain": [
       "'python'"
      ]
     },
     "execution_count": 7,
     "metadata": {},
     "output_type": "execute_result"
    }
   ],
   "source": [
    "res.lower()"
   ]
  },
  {
   "cell_type": "markdown",
   "metadata": {},
   "source": [
    "#### Метод __count__ возвращает число повторений подстроки:\n",
    "String.count(sub[, start[, end]])\n",
    "* start - индекс, с которого начинается поиск;\n",
    "* end - индекс, которым заканчивается поиск;\n",
    "\n",
    "Все что указанно в квадратных скобках, это не обязательные элементы\n",
    "* String.count(sub~~[, start[, end]]~~)"
   ]
  },
  {
   "cell_type": "code",
   "execution_count": 1,
   "metadata": {},
   "outputs": [
    {
     "data": {
      "text/plain": [
       "3"
      ]
     },
     "execution_count": 1,
     "metadata": {},
     "output_type": "execute_result"
    }
   ],
   "source": [
    "msg = 'adra5kad5abr5a'\n",
    "msg.count('5') # в результате мы увидим что 'ra' повтаряется 2 раза\n",
    "\n",
    "#msg.count('ra', 4) - с начальным вхождением вернет значение 1, в связи с тем что с\n",
    "# 4-го символа начали искать.\n",
    "\n",
    "#msg.count('ra', 4, 10) - с начальным и конечным вхождением вернет значение 0, \n",
    "# так как 10 символ не учитывается, а 9-10 символ - это 'ra'\n",
    "\n",
    "#msg.count('ra', 4, 11) - вернет значение 1, потому что конечное вхождение 11 символ"
   ]
  },
  {
   "cell_type": "markdown",
   "metadata": {},
   "source": [
    "#### Метод __find__ возвращает индекс первого найденного вхождения sub:\n",
    "String.find(sub[, start[, end]])\n",
    "* start - индекс, с которого начинается поиск;\n",
    "* end - индекс, которым заканчивается поиск;"
   ]
  },
  {
   "cell_type": "code",
   "execution_count": 2,
   "metadata": {},
   "outputs": [
    {
     "data": {
      "text/plain": [
       "8"
      ]
     },
     "execution_count": 2,
     "metadata": {},
     "output_type": "execute_result"
    }
   ],
   "source": [
    "# msg = 'adrakada(br)a' - br начинается с 8 индекса\n",
    "msg.find('br')\n",
    "\n",
    "#msg.find('br', 1, 9) # - также принимает индексы\n",
    "\n",
    "#msg.find('brr') - вернет -1, так как строка не существует"
   ]
  },
  {
   "cell_type": "markdown",
   "metadata": {},
   "source": [
    "##### Метод __rfind__ возвращает индекс первого найденного вхождения sub начиная с правого края (обратное направление поиска):"
   ]
  },
  {
   "cell_type": "code",
   "execution_count": 20,
   "metadata": {},
   "outputs": [
    {
     "data": {
      "text/plain": [
       "8"
      ]
     },
     "execution_count": 20,
     "metadata": {},
     "output_type": "execute_result"
    }
   ],
   "source": [
    "msg.rfind('br')"
   ]
  },
  {
   "cell_type": "markdown",
   "metadata": {},
   "source": [
    "##### Метод __index__ возвращает индекс первого найденного вхождения sub\n",
    "Он работает абсолютно как find только с одним отличием, если искомая подстрока несуществует будет вызвана ошибка"
   ]
  },
  {
   "cell_type": "code",
   "execution_count": 23,
   "metadata": {},
   "outputs": [
    {
     "data": {
      "text/plain": [
       "8"
      ]
     },
     "execution_count": 23,
     "metadata": {},
     "output_type": "execute_result"
    }
   ],
   "source": [
    "msg.index('br')\n",
    "#msg.index('oa') - вызовет ошибку"
   ]
  },
  {
   "cell_type": "markdown",
   "metadata": {},
   "source": [
    "#### Метод __replace__ выполняет замену подстрок old на новую подстроку new значение :\n",
    "\n",
    "String.replace(old, new, count=-1)\n",
    "* count - максимальное количество замен (-1 - без ограничений)"
   ]
  },
  {
   "cell_type": "code",
   "execution_count": 24,
   "metadata": {},
   "outputs": [
    {
     "data": {
      "text/plain": [
       "'odrokodobro'"
      ]
     },
     "execution_count": 24,
     "metadata": {},
     "output_type": "execute_result"
    }
   ],
   "source": [
    "# Например заменим в нашей строке все буквы 'a' на букву 'o'.\n",
    "\n",
    "msg.replace('a', 'o') "
   ]
  },
  {
   "cell_type": "code",
   "execution_count": 27,
   "metadata": {},
   "outputs": [
    {
     "data": {
      "text/plain": [
       "'aDrakaDabra'"
      ]
     },
     "execution_count": 27,
     "metadata": {},
     "output_type": "execute_result"
    }
   ],
   "source": [
    "# Заменим все малые буквы 'd' на заглавные 'D'.\n",
    "\n",
    "msg.replace('d', 'D')"
   ]
  },
  {
   "cell_type": "code",
   "execution_count": 29,
   "metadata": {},
   "outputs": [
    {
     "data": {
      "text/plain": [
       "'odrokadabra'"
      ]
     },
     "execution_count": 29,
     "metadata": {},
     "output_type": "execute_result"
    }
   ],
   "source": [
    "# Пример указания нескольких замен (2) буквы а на о\n",
    "msg.replace('a', 'o', 2)"
   ]
  },
  {
   "cell_type": "markdown",
   "metadata": {},
   "source": [
    "Важный пример. Мы можем удалить при помощи replace, указанную подстроку"
   ]
  },
  {
   "cell_type": "code",
   "execution_count": 28,
   "metadata": {},
   "outputs": [
    {
     "data": {
      "text/plain": [
       "'drkdbr'"
      ]
     },
     "execution_count": 28,
     "metadata": {},
     "output_type": "execute_result"
    }
   ],
   "source": [
    "msg.replace('a', '') # указав пустую строку мы удаляем объект"
   ]
  },
  {
   "cell_type": "markdown",
   "metadata": {},
   "source": [
    "##### Метод __isalpha__ возвращает True если трока целеком состоит из букв и False в противном случае:\n",
    "\n",
    "__Если в строке будет пробел, это вызовет False так как пробел не является строчным символом__"
   ]
  },
  {
   "cell_type": "code",
   "execution_count": 31,
   "metadata": {},
   "outputs": [
    {
     "data": {
      "text/plain": [
       "True"
      ]
     },
     "execution_count": 31,
     "metadata": {},
     "output_type": "execute_result"
    }
   ],
   "source": [
    "msg.isalpha()"
   ]
  },
  {
   "cell_type": "code",
   "execution_count": 32,
   "metadata": {},
   "outputs": [
    {
     "data": {
      "text/plain": [
       "False"
      ]
     },
     "execution_count": 32,
     "metadata": {},
     "output_type": "execute_result"
    }
   ],
   "source": [
    "abc = 'hello world'\n",
    "abc.isalpha()"
   ]
  },
  {
   "cell_type": "markdown",
   "metadata": {},
   "source": [
    "##### Метод __isdigit__ возвращает True если трока целеком состоит из цифр и False в противном случае:\n",
    "\n",
    "__Если в цифровой строке будет точка или математические оператор, пробел, это вызовет False так как они не является строчным цифровым символом__"
   ]
  },
  {
   "cell_type": "code",
   "execution_count": 35,
   "metadata": {},
   "outputs": [
    {
     "data": {
      "text/plain": [
       "False"
      ]
     },
     "execution_count": 35,
     "metadata": {},
     "output_type": "execute_result"
    }
   ],
   "source": [
    "#n = '5'  \n",
    "#n.isdigit() - True\n",
    "\n",
    "num = '-5.6' \n",
    "num.isdigit()"
   ]
  },
  {
   "cell_type": "markdown",
   "metadata": {},
   "source": [
    "#### Метод __rjust__ возвращает новую строку с заданным числом символов и при необходимости слева добавляет символы заполнители:\n",
    "\n",
    "String.rjust(width[, fillchar=''])\n",
    "* fillchar - по умолчанию пробел\n",
    "* ВСЕГДА СЛЕДУЕТ УКАЗЫВАТЬ ТОЛЬКО ОДИН СИМВОЛ В fillchar К ПРИМЕРУ '0' "
   ]
  },
  {
   "cell_type": "code",
   "execution_count": 40,
   "metadata": {},
   "outputs": [
    {
     "data": {
      "text/plain": [
       "'..abc'"
      ]
     },
     "execution_count": 40,
     "metadata": {},
     "output_type": "execute_result"
    }
   ],
   "source": [
    "d = 'abc'\n",
    "d.rjust(5, '.') # В данном примере мы создали строку состоящую из 5 символов rjust(5), в строку состоящую из 3 символов. Дальше мы указали символ\n",
    "# заполнения rjust(5, '.') точки котрые подставились вместо двух пробелов. в итоге получилась строка из 5 элементов."
   ]
  },
  {
   "cell_type": "markdown",
   "metadata": {},
   "source": [
    "Этот метод довольно часто используется, при добавлении не значущих нулей перед цифрами:"
   ]
  },
  {
   "cell_type": "code",
   "execution_count": 41,
   "metadata": {},
   "outputs": [
    {
     "data": {
      "text/plain": [
       "'0012'"
      ]
     },
     "execution_count": 41,
     "metadata": {},
     "output_type": "execute_result"
    }
   ],
   "source": [
    "d = '12'\n",
    "d.rjust(4, '0')"
   ]
  },
  {
   "cell_type": "markdown",
   "metadata": {},
   "source": [
    "При этом если мы укажем в rjust(1) первым параметром 1, то строка такой же и останется."
   ]
  },
  {
   "cell_type": "code",
   "execution_count": 42,
   "metadata": {},
   "outputs": [
    {
     "data": {
      "text/plain": [
       "'12'"
      ]
     },
     "execution_count": 42,
     "metadata": {},
     "output_type": "execute_result"
    }
   ],
   "source": [
    "d = '12'\n",
    "d.rjust(1, '0')"
   ]
  },
  {
   "cell_type": "markdown",
   "metadata": {},
   "source": [
    "#### Метод __ljust__ возвращает новую строку с заданным числом символов и при необходимости справа добавляет символы заполнители:"
   ]
  },
  {
   "cell_type": "code",
   "execution_count": 43,
   "metadata": {},
   "outputs": [
    {
     "data": {
      "text/plain": [
       "'1200'"
      ]
     },
     "execution_count": 43,
     "metadata": {},
     "output_type": "execute_result"
    }
   ],
   "source": [
    "d = '12'\n",
    "d.ljust(4, '0')"
   ]
  },
  {
   "cell_type": "code",
   "execution_count": 44,
   "metadata": {},
   "outputs": [
    {
     "data": {
      "text/plain": [
       "'12**'"
      ]
     },
     "execution_count": 44,
     "metadata": {},
     "output_type": "execute_result"
    }
   ],
   "source": [
    "d = '12'\n",
    "d.ljust(4, '*')"
   ]
  },
  {
   "cell_type": "markdown",
   "metadata": {},
   "source": [
    "#### Метод __split__ возвращает коллекцию строк, на которую разбивается исходная строка String:\n",
    "String.split(sep=None, maxsplit=-1):\n",
    "* sep - фрагмент разбиения строки\n"
   ]
  },
  {
   "cell_type": "code",
   "execution_count": 3,
   "metadata": {},
   "outputs": [
    {
     "data": {
      "text/plain": [
       "['Иванов', 'Иван', 'Иванович']"
      ]
     },
     "execution_count": 3,
     "metadata": {},
     "output_type": "execute_result"
    }
   ],
   "source": [
    "a = 'Иванов Иван Иванович'\n",
    "a.split() # На выходе получаем список из указанных строк\n"
   ]
  },
  {
   "cell_type": "markdown",
   "metadata": {},
   "source": [
    "Задание. Мы хотим вернуть список из строки состоящей из цифр, которые различно разделены пробелами и запетыми"
   ]
  },
  {
   "cell_type": "code",
   "execution_count": 50,
   "metadata": {},
   "outputs": [
    {
     "data": {
      "text/plain": [
       "['1', '2', '3', '4', '5', '6']"
      ]
     },
     "execution_count": 50,
     "metadata": {},
     "output_type": "execute_result"
    }
   ],
   "source": [
    "digs = '1,  2,3, 4,  5,6'\n",
    "digs.replace(' ', '').split(',')  #выделяем цифры без каких-либо пробелов, при помощи replace - удаляем пробелы, далее split приобразует строку в список\n",
    "#разделенный через запятые. "
   ]
  },
  {
   "cell_type": "markdown",
   "metadata": {},
   "source": [
    "#### Метод __' '.join__(список) он делает обратную операцию из списка строк, собирает единую строку:\n",
    "' '.join(list):\n"
   ]
  },
  {
   "cell_type": "code",
   "execution_count": 58,
   "metadata": {},
   "outputs": [
    {
     "data": {
      "text/plain": [
       "'1, 2, 3, 4, 5, 6'"
      ]
     },
     "execution_count": 58,
     "metadata": {},
     "output_type": "execute_result"
    }
   ],
   "source": [
    "digs = '1,  2,3, 4,  5,6'\n",
    "s = digs.replace(' ', '').split(',') # Используем значения из прошлого задания\n",
    "\n",
    "', '.join(s) # в join мы указали символ который будет стоят между символами\n"
   ]
  },
  {
   "cell_type": "markdown",
   "metadata": {},
   "source": [
    "Задание. Мы хотим записать строку так, чтобы все слова были через запятые:"
   ]
  },
  {
   "cell_type": "code",
   "execution_count": 61,
   "metadata": {},
   "outputs": [
    {
     "data": {
      "text/plain": [
       "'Иванов, Иван, Иванович'"
      ]
     },
     "execution_count": 61,
     "metadata": {},
     "output_type": "execute_result"
    }
   ],
   "source": [
    "fio = 'Иванов Иван Иванович'\n",
    "\n",
    "', '.join(fio.split())"
   ]
  },
  {
   "cell_type": "markdown",
   "metadata": {},
   "source": [
    "#### Метод __strip__ метод удаляет все символы пробелов и переносов строк в начале и в конце строки:"
   ]
  },
  {
   "cell_type": "code",
   "execution_count": 62,
   "metadata": {},
   "outputs": [
    {
     "data": {
      "text/plain": [
       "'hello world'"
      ]
     },
     "execution_count": 62,
     "metadata": {},
     "output_type": "execute_result"
    }
   ],
   "source": [
    "'         hello world       \\n'.strip()"
   ]
  },
  {
   "cell_type": "markdown",
   "metadata": {},
   "source": [
    "#### Аналогичным образом работают методы rstrip и lstrip."
   ]
  },
  {
   "cell_type": "code",
   "execution_count": 63,
   "metadata": {},
   "outputs": [
    {
     "data": {
      "text/plain": [
       "'         hello world'"
      ]
     },
     "execution_count": 63,
     "metadata": {},
     "output_type": "execute_result"
    }
   ],
   "source": [
    "'         hello world       \\n'.rstrip()"
   ]
  },
  {
   "cell_type": "code",
   "execution_count": 64,
   "metadata": {},
   "outputs": [
    {
     "data": {
      "text/plain": [
       "'hello world       \\n'"
      ]
     },
     "execution_count": 64,
     "metadata": {},
     "output_type": "execute_result"
    }
   ],
   "source": [
    "'         hello world       \\n'.lstrip()"
   ]
  },
  {
   "cell_type": "markdown",
   "metadata": {},
   "source": [
    "## Методы списков"
   ]
  },
  {
   "cell_type": "markdown",
   "metadata": {},
   "source": [
    "### Метод append() добавляет значение в конец списка.\n",
    "\n",
    "* Список является изменяемым типом данных.\n",
    "* На основании этого нам не нужно делать присваивание результатов в другую переменную.\n",
    "* Нельзя добавлять более 1-го элемента"
   ]
  },
  {
   "cell_type": "code",
   "execution_count": 5,
   "metadata": {},
   "outputs": [
    {
     "data": {
      "text/plain": [
       "[1, -54, 3, 23, 43, -45, 0, 100]"
      ]
     },
     "execution_count": 5,
     "metadata": {},
     "output_type": "execute_result"
    }
   ],
   "source": [
    "a = [1, -54, 3, 23, 43, -45, 0]\n",
    "a.append(100)\n",
    "a"
   ]
  },
  {
   "cell_type": "markdown",
   "metadata": {},
   "source": [
    "Если мы присвоим список в другую переменную, то мы его потреряем"
   ]
  },
  {
   "cell_type": "code",
   "execution_count": 11,
   "metadata": {},
   "outputs": [
    {
     "ename": "AttributeError",
     "evalue": "'NoneType' object has no attribute 'append'",
     "output_type": "error",
     "traceback": [
      "\u001b[1;31m---------------------------------------------------------------------------\u001b[0m",
      "\u001b[1;31mAttributeError\u001b[0m                            Traceback (most recent call last)",
      "Cell \u001b[1;32mIn[11], line 1\u001b[0m\n\u001b[1;32m----> 1\u001b[0m a \u001b[39m=\u001b[39m a\u001b[39m.\u001b[39;49mappend(\u001b[39m40\u001b[39m)\n\u001b[0;32m      2\u001b[0m a\n",
      "\u001b[1;31mAttributeError\u001b[0m: 'NoneType' object has no attribute 'append'"
     ]
    }
   ],
   "source": [
    "a = a.append(40)\n",
    "a"
   ]
  },
  {
   "cell_type": "markdown",
   "metadata": {},
   "source": [
    "### Метод insert() позволяет вставлять в список в опереденное место, какое-либо значение.\n",
    "\n",
    "* В данный метод передается только 2 аргумента (1 индекс куда будет подставлено значение, 2 значение).\n",
    "* Данный метод не удаляет значение, которое мы заменяем по индексу, оно просто отодвигается."
   ]
  },
  {
   "cell_type": "code",
   "execution_count": 14,
   "metadata": {},
   "outputs": [
    {
     "data": {
      "text/plain": [
       "[1, -54, 3, -1000, 23, 43, -45, 0]"
      ]
     },
     "execution_count": 14,
     "metadata": {},
     "output_type": "execute_result"
    }
   ],
   "source": [
    "a = [1, -54, 3, 23, 43, -45, 0]\n",
    "a.insert(3, -1000)\n",
    "a"
   ]
  },
  {
   "cell_type": "markdown",
   "metadata": {},
   "source": [
    "### Метод remove() он позволяет удалять по значению элемента:\n",
    "\n",
    "* Следует учитывать что remove удаляет только ближайшее по индексу значение.\n",
    "* Если в списке содержится True или False или 0 и 1 они могут рассматриваться как аналогичные значения для удаления.\n",
    "* Если будет отсутсвовать в списке передаваемое значение в указанный метод, то операция преведет к ошибке. "
   ]
  },
  {
   "cell_type": "code",
   "execution_count": 15,
   "metadata": {},
   "outputs": [
    {
     "data": {
      "text/plain": [
       "[1, 3, 23, 43, -45, 0]"
      ]
     },
     "execution_count": 15,
     "metadata": {},
     "output_type": "execute_result"
    }
   ],
   "source": [
    "a = [1, -54, 3, 23, 43, -45, 0]\n",
    "a.remove(-54)\n",
    "a"
   ]
  },
  {
   "cell_type": "markdown",
   "metadata": {},
   "source": [
    "### Метод pop() он позволяет удалять по индексу элемента и вывести его:\n",
    "* Если мы записываем этот метод без аргументов, то он удалит последнее значение, после чего вернет его при выводе."
   ]
  },
  {
   "cell_type": "code",
   "execution_count": 19,
   "metadata": {},
   "outputs": [
    {
     "data": {
      "text/plain": [
       "-45"
      ]
     },
     "execution_count": 19,
     "metadata": {},
     "output_type": "execute_result"
    }
   ],
   "source": [
    "a = [1, -54, 3, 23, 43, -45, 0]\n",
    "a.pop() # удалить последнее значение и выведет его на экран\n",
    "\n",
    "# Можно запомнить удаляемое значение в переменную, иногда это требуется\n",
    "end = a.pop()\n",
    "end"
   ]
  },
  {
   "cell_type": "code",
   "execution_count": 20,
   "metadata": {},
   "outputs": [
    {
     "data": {
      "text/plain": [
       "[1, 3, 23, 43, -45, 0]"
      ]
     },
     "execution_count": 20,
     "metadata": {},
     "output_type": "execute_result"
    }
   ],
   "source": [
    "a = [1, -54, 3, 23, 43, -45, 0]\n",
    "a.pop(1)\n",
    "a"
   ]
  },
  {
   "cell_type": "markdown",
   "metadata": {},
   "source": [
    "### Метод copy() позволяет создавать копию данного списка:\n",
    "* Если мы будет передавать список в данный метод, то это будет уже другой объект.\n",
    "* Копию списка мы также можем сделать при помощи срезов."
   ]
  },
  {
   "cell_type": "code",
   "execution_count": 24,
   "metadata": {},
   "outputs": [
    {
     "data": {
      "text/plain": [
       "[1, -54, 3, 23, 43, -45, 0]"
      ]
     },
     "execution_count": 24,
     "metadata": {},
     "output_type": "execute_result"
    }
   ],
   "source": [
    "a = [1, -54, 3, 23, 43, -45, 0]\n",
    "c = a.copy()  # аналогичные записи c = a[:], c = list(a).\n",
    "c\n",
    "#id(a) 2208626854656\n",
    "#id(c) 2208626854016"
   ]
  },
  {
   "cell_type": "markdown",
   "metadata": {},
   "source": [
    "### Метод count() позволяет найти число элементов с указанным значением:"
   ]
  },
  {
   "cell_type": "code",
   "execution_count": 26,
   "metadata": {},
   "outputs": [
    {
     "data": {
      "text/plain": [
       "2"
      ]
     },
     "execution_count": 26,
     "metadata": {},
     "output_type": "execute_result"
    }
   ],
   "source": [
    "a = [1, -54, 3, 23, 43, -45, 23, 0]\n",
    "a.count(23)"
   ]
  },
  {
   "cell_type": "markdown",
   "metadata": {},
   "source": [
    "### Метод index() позволяет определять индекс определенного значения:\n",
    "* Данный метод возвращает первое найденное вхождение.\n",
    "* Метод имеет 2 аргумента, (1 значение, 2 старт)"
   ]
  },
  {
   "cell_type": "code",
   "execution_count": 27,
   "metadata": {},
   "outputs": [
    {
     "data": {
      "text/plain": [
       "4"
      ]
     },
     "execution_count": 27,
     "metadata": {},
     "output_type": "execute_result"
    }
   ],
   "source": [
    "a = [1, -54, 3, 23, 43, -45, 23, 0]\n",
    "a.index(43)"
   ]
  },
  {
   "cell_type": "code",
   "execution_count": 28,
   "metadata": {},
   "outputs": [
    {
     "data": {
      "text/plain": [
       "7"
      ]
     },
     "execution_count": 28,
     "metadata": {},
     "output_type": "execute_result"
    }
   ],
   "source": [
    "a = [1, -54, 3, 23, 43, -45, 23, 1]\n",
    "a.index(1, 1) # вывело индекс второй 1"
   ]
  },
  {
   "cell_type": "markdown",
   "metadata": {},
   "source": [
    "### Оператор in позволяет определить есть ли значения в списке:"
   ]
  },
  {
   "cell_type": "code",
   "execution_count": 29,
   "metadata": {},
   "outputs": [
    {
     "data": {
      "text/plain": [
       "True"
      ]
     },
     "execution_count": 29,
     "metadata": {},
     "output_type": "execute_result"
    }
   ],
   "source": [
    "listok = [1, 'a', 3, 23, 43, -45, 23, 1]\n",
    "'a' in listok"
   ]
  },
  {
   "cell_type": "markdown",
   "metadata": {},
   "source": [
    "### Метод reverse() меняет порядок списка на обратный:"
   ]
  },
  {
   "cell_type": "code",
   "execution_count": 31,
   "metadata": {},
   "outputs": [
    {
     "data": {
      "text/plain": [
       "[5, 4, 3, 2, 1]"
      ]
     },
     "execution_count": 31,
     "metadata": {},
     "output_type": "execute_result"
    }
   ],
   "source": [
    "listok = [1, 2, 3, 4, 5]\n",
    "listok.reverse()\n",
    "listok"
   ]
  },
  {
   "cell_type": "markdown",
   "metadata": {},
   "source": [
    "### Метод sort() сортирует список:\n",
    "* Сортирует по возрастанию (не убыванию), по умолчанию.\n",
    "* Метод сортирует именно текущий список, результат не должен присваиваться переменной.\n",
    "* Сортирует по убыванию (не по возрастанию), при помощи дополнительного параметра reverse = True.\n",
    "* Данный метод может сортировать слова(строки), по лексическо-графическому порядку."
   ]
  },
  {
   "cell_type": "code",
   "execution_count": 33,
   "metadata": {},
   "outputs": [
    {
     "data": {
      "text/plain": [
       "[1, 2, 3, 4, 5]"
      ]
     },
     "execution_count": 33,
     "metadata": {},
     "output_type": "execute_result"
    }
   ],
   "source": [
    "a = [1, 3, 5, 2, 4]\n",
    "a.sort()\n",
    "a"
   ]
  },
  {
   "cell_type": "code",
   "execution_count": 39,
   "metadata": {},
   "outputs": [
    {
     "data": {
      "text/plain": [
       "[5, 4, 3, 2, 1]"
      ]
     },
     "execution_count": 39,
     "metadata": {},
     "output_type": "execute_result"
    }
   ],
   "source": [
    "a.sort(reverse=True)\n",
    "a"
   ]
  },
  {
   "cell_type": "code",
   "execution_count": 40,
   "metadata": {},
   "outputs": [
    {
     "data": {
      "text/plain": [
       "['a', 'b', 'c', 'd']"
      ]
     },
     "execution_count": 40,
     "metadata": {},
     "output_type": "execute_result"
    }
   ],
   "source": [
    "a = ['b', 'a', 'd', 'c', ]\n",
    "a.sort()\n",
    "a"
   ]
  },
  {
   "cell_type": "code",
   "execution_count": 35,
   "metadata": {},
   "outputs": [
    {
     "data": {
      "text/plain": [
       "2208626863552"
      ]
     },
     "execution_count": 35,
     "metadata": {},
     "output_type": "execute_result"
    }
   ],
   "source": [
    "id(a)"
   ]
  },
  {
   "cell_type": "markdown",
   "metadata": {},
   "source": [
    "### Метод sorted() возвращает новый отсортированный списoк:\n",
    "* Отличие от sort() в том, что sorted() возвращает новый список, а не произоводит операции на существующем."
   ]
  },
  {
   "cell_type": "code",
   "execution_count": 34,
   "metadata": {},
   "outputs": [
    {
     "data": {
      "text/plain": [
       "[1, 2, 3, 4, 5]"
      ]
     },
     "execution_count": 34,
     "metadata": {},
     "output_type": "execute_result"
    }
   ],
   "source": [
    "sorted(a)"
   ]
  },
  {
   "cell_type": "code",
   "execution_count": 37,
   "metadata": {},
   "outputs": [
    {
     "data": {
      "text/plain": [
       "2208626880128"
      ]
     },
     "execution_count": 37,
     "metadata": {},
     "output_type": "execute_result"
    }
   ],
   "source": [
    "id(sorted(a))"
   ]
  },
  {
   "cell_type": "markdown",
   "metadata": {},
   "source": [
    "## Вложенные списки, многомерные списки"
   ]
  },
  {
   "cell_type": "markdown",
   "metadata": {},
   "source": [
    "К примеру есть изобращение состоящее из 5 на 5 пикселей, которое нам необходимо хранить в программе:\n",
    "____________________\n",
    "| 1, 7,  6, 11,  3  |   - ссылка 1  (каждый цвет представляет собой свое уникальное число, условно они обозначени [1, 7, 6, 11, 3])\n",
    "| 1, 7,  6, 11,  3  |   -  ссылка 2\n",
    "| 1, 7,  6, 11,  3  |   -  ссылка 3\n",
    "| 1, 7,  6, 11,  3  |   -  ссылка 4 \n",
    "|_1, 7,  6, 11,  3__|   - ссылка 5\n",
    "\n",
    "Чтобы представить такое изображание нам необходим двумерный список размерность 5 на 5 элементов, ниже реализация:    "
   ]
  },
  {
   "cell_type": "code",
   "execution_count": 2,
   "metadata": {},
   "outputs": [
    {
     "data": {
      "text/plain": [
       "[[1, 7, 6, 11, 3],\n",
       " [1, 7, 6, 11, 3],\n",
       " [1, 7, 6, 11, 3],\n",
       " [1, 7, 6, 11, 3],\n",
       " [1, 7, 6, 11, 3]]"
      ]
     },
     "execution_count": 2,
     "metadata": {},
     "output_type": "execute_result"
    }
   ],
   "source": [
    "line = [1, 7, 6, 11, 3] # одномерный список\n",
    "\n",
    "img = [[1, 7, 6, 11, 3],\n",
    "       [1, 7, 6, 11, 3],\n",
    "       [1, 7, 6, 11, 3],\n",
    "       [1, 7, 6, 11, 3],\n",
    "       [1, 7, 6, 11, 3]] #двумерный список\n",
    "img"
   ]
  },
  {
   "cell_type": "code",
   "execution_count": 42,
   "metadata": {},
   "outputs": [
    {
     "data": {
      "text/plain": [
       "[[1, 7, 6, 11, 3],\n",
       " [1, 7, 6, 11, 3],\n",
       " [1, 7, 6, 11, 3],\n",
       " [1, 7, 6, 11, 3],\n",
       " [1, 7, 6, 11, 3]]"
      ]
     },
     "execution_count": 42,
     "metadata": {},
     "output_type": "execute_result"
    }
   ],
   "source": [
    "# Можно сократить код и изобразить список таким образом:\n",
    "\n",
    "img = [line[:], line[:], line[:], line[:], line[:]]\n",
    "img"
   ]
  },
  {
   "cell_type": "code",
   "execution_count": 46,
   "metadata": {},
   "outputs": [
    {
     "data": {
      "text/plain": [
       "[[1, 7, 6, 11, 3],\n",
       " [1, 7, 6, 11, 3],\n",
       " [1, 7, 6, 11, 3],\n",
       " [1, 7, 6, 11, 3],\n",
       " [1, 7, 6, 11, 3]]"
      ]
     },
     "execution_count": 46,
     "metadata": {},
     "output_type": "execute_result"
    }
   ],
   "source": [
    "img = [line[:]]\n",
    "img * 5"
   ]
  },
  {
   "cell_type": "markdown",
   "metadata": {},
   "source": [
    "Так как каждый список вложен, они имеют соответствующие индексы внутри списka img."
   ]
  },
  {
   "cell_type": "code",
   "execution_count": 47,
   "metadata": {},
   "outputs": [
    {
     "data": {
      "text/plain": [
       "[1, 7, 6, 11, 3]"
      ]
     },
     "execution_count": 47,
     "metadata": {},
     "output_type": "execute_result"
    }
   ],
   "source": [
    "img[0] # обращение к первой ссылке элемента списка "
   ]
  },
  {
   "cell_type": "code",
   "execution_count": 48,
   "metadata": {},
   "outputs": [
    {
     "data": {
      "text/plain": [
       "7"
      ]
     },
     "execution_count": 48,
     "metadata": {},
     "output_type": "execute_result"
    }
   ],
   "source": [
    "img[0][1] # обращение ко второму элементу у первой ссылки"
   ]
  },
  {
   "cell_type": "markdown",
   "metadata": {},
   "source": [
    "Замена значений элементов вложенного списка"
   ]
  },
  {
   "cell_type": "code",
   "execution_count": 53,
   "metadata": {},
   "outputs": [
    {
     "data": {
      "text/plain": [
       "[[0, 0, 0, 0, 0]]"
      ]
     },
     "execution_count": 53,
     "metadata": {},
     "output_type": "execute_result"
    }
   ],
   "source": [
    "img[0] = [0, 0, 0, 0, 0]\n",
    "img"
   ]
  },
  {
   "cell_type": "markdown",
   "metadata": {},
   "source": [
    "Многомерный список"
   ]
  },
  {
   "cell_type": "code",
   "execution_count": 58,
   "metadata": {},
   "outputs": [
    {
     "data": {
      "text/plain": [
       "['a', [2, 1, [True, 'g'], 2], 3, 2, 1]"
      ]
     },
     "execution_count": 58,
     "metadata": {},
     "output_type": "execute_result"
    }
   ],
   "source": [
    "m = ['a', [2, 1, [True, 'g'], 2], 3, 2, 1]\n",
    "m"
   ]
  },
  {
   "cell_type": "markdown",
   "metadata": {},
   "source": [
    "### **Тернарный условный оператор**"
   ]
  },
  {
   "cell_type": "markdown",
   "metadata": {},
   "source": [
    "Появился в версии Python 2.5<br>\n",
    "**<значение 1> if <условие> else <значение 2>**\n",
    "\n",
    "* Работает он так, тернарный оператор возвращает <значение 1>, если условие верно, иначе возвращает <значение 2>\n",
    "\n",
    "* Тернарный оператор автоматически вызывает результат, просто if мы не можем так использовать.\n",
    "\n",
    "* В тернарном операторе нет внутренних блоков, поэтому мы можем прописывать только одну какую-либо конструкцию(проверку).\n",
    "\n",
    "* Активный объект который в зависимости от условия возвращает значение"
   ]
  },
  {
   "cell_type": "code",
   "execution_count": 2,
   "metadata": {},
   "outputs": [
    {
     "name": "stdout",
     "output_type": "stream",
     "text": [
      "14\n"
     ]
    }
   ],
   "source": [
    "a = 12\n",
    "b = 10\n",
    "\n",
    "res = a + 2 if a > b else b\n",
    "print(res)"
   ]
  },
  {
   "cell_type": "code",
   "execution_count": 3,
   "metadata": {},
   "outputs": [
    {
     "name": "stdout",
     "output_type": "stream",
     "text": [
      "PYTHON\n"
     ]
    }
   ],
   "source": [
    "s = 'python'\n",
    "t = 'upper'\n",
    "\n",
    "res = s.upper() if t == 'upper' else s\n",
    "print(res)"
   ]
  },
  {
   "cell_type": "code",
   "execution_count": 7,
   "metadata": {},
   "outputs": [
    {
     "name": "stdout",
     "output_type": "stream",
     "text": [
      "a - четное число\n"
     ]
    }
   ],
   "source": [
    "a = 12\n",
    "b = 9\n",
    "\n",
    "res = 'a - ' + ('четное' if a % 2 == 0 else 'нечетное') + ' число'\n",
    "print(res) "
   ]
  },
  {
   "cell_type": "markdown",
   "metadata": {},
   "source": [
    "Тернарный оператор, может состоять из нескольких тернарных, но так делают на практике очень редко."
   ]
  },
  {
   "cell_type": "code",
   "execution_count": 8,
   "metadata": {},
   "outputs": [
    {
     "name": "stdout",
     "output_type": "stream",
     "text": [
      "7\n"
     ]
    }
   ],
   "source": [
    "a = 5\n",
    "b = 7\n",
    "c = -1\n",
    "\n",
    "d = (a if a > c else c) if a > b else (b if b > c else c)\n",
    "print(d)"
   ]
  },
  {
   "cell_type": "markdown",
   "metadata": {},
   "source": [
    "### Циклы в Python\n",
    "\n",
    "* Цикл позволяет реализовать некие повторяющееся действия.\n",
    "\n",
    "* Итерация цикла - однократное выполнение цикла.\n",
    "\n",
    "* В цикле прописывается условие продолжения работы, а него завершения.\n",
    "\n",
    "while <условие цикла>:<br>\n",
    "    оператор 1<br>\n",
    "    оператор 2<br>         \n",
    "    ...<br>\n",
    "    оператор N<br>\n",
    "\n",
    "    "
   ]
  },
  {
   "cell_type": "code",
   "execution_count": 4,
   "metadata": {},
   "outputs": [
    {
     "name": "stdout",
     "output_type": "stream",
     "text": [
      "1\n",
      "2\n",
      "3\n",
      "4\n",
      "5\n",
      "6\n",
      "7\n",
      "8\n",
      "9\n",
      "10\n"
     ]
    }
   ],
   "source": [
    "# Простая итерация\n",
    "i = 1\n",
    "\n",
    "while i <= 10:\n",
    "    print(i)\n",
    "    i+=1"
   ]
  },
  {
   "cell_type": "code",
   "execution_count": 23,
   "metadata": {},
   "outputs": [
    {
     "name": "stdout",
     "output_type": "stream",
     "text": [
      "-1\n",
      "-2\n",
      "-3\n",
      "-4\n",
      "-5\n",
      "-6\n",
      "-7\n",
      "-8\n",
      "-9\n",
      "-10\n"
     ]
    }
   ],
   "source": [
    "# Простая итерация с отрицательными числами\n",
    "i = -1\n",
    "\n",
    "while i > -10:\n",
    "    print(i)\n",
    "    i-= 1\n",
    "print(i)    "
   ]
  },
  {
   "cell_type": "code",
   "execution_count": 8,
   "metadata": {},
   "outputs": [
    {
     "name": "stdout",
     "output_type": "stream",
     "text": [
      "500500\n"
     ]
    }
   ],
   "source": [
    "# Реализуем программу считвания суммы всех чисел от 0 до N.\n",
    "s = 0\n",
    "i = 1\n",
    "N = 1000\n",
    "\n",
    "while i<= 1000:\n",
    "    s+=i\n",
    "    i+=1\n",
    "print(s)    "
   ]
  },
  {
   "cell_type": "code",
   "execution_count": 9,
   "metadata": {},
   "outputs": [
    {
     "name": "stdout",
     "output_type": "stream",
     "text": [
      "1275\n"
     ]
    }
   ],
   "source": [
    "# Реализация с дополнительными операторами  программу считвания суммы всех чисел условия\n",
    "s = 0\n",
    "i = 1\n",
    "N = 1000\n",
    "\n",
    "while i<= 1000 and i <=50: # вычисляте сумму до 1000, но если привысить i = 50, то цикл остановится\n",
    "    s+=i\n",
    "    i+=1\n",
    "print(s) "
   ]
  },
  {
   "cell_type": "code",
   "execution_count": 10,
   "metadata": {},
   "outputs": [
    {
     "name": "stdout",
     "output_type": "stream",
     "text": [
      "625\n"
     ]
    }
   ],
   "source": [
    "# Реализация с дополнительными операторами программу считвания суммы нечетных чисел условия\n",
    "s = 0\n",
    "i = 1\n",
    "N = 1000\n",
    "\n",
    "# 1, 3, 5, 7 \n",
    "while i<= 1000 and i <=50: # вычисляте сумму нечетный чисел до 1000, но если привысить i = 50, то цикл остановится\n",
    "    s+=i\n",
    "    i+=2 # меняем 1 на 2, и i при итерации будет 1 + 2 = 3, ...5\n",
    "print(s) "
   ]
  },
  {
   "cell_type": "code",
   "execution_count": 5,
   "metadata": {},
   "outputs": [
    {
     "name": "stdout",
     "output_type": "stream",
     "text": [
      "Вход в систему\n"
     ]
    }
   ],
   "source": [
    "pass_true = 'password'\n",
    "ps = ''\n",
    "\n",
    "while ps != pass_true:\n",
    "    ps = input('Введите пароль: ')\n",
    "print('Вход в систему')    "
   ]
  },
  {
   "cell_type": "code",
   "execution_count": 27,
   "metadata": {},
   "outputs": [
    {
     "name": "stdout",
     "output_type": "stream",
     "text": [
      "3\n",
      "6\n",
      "9\n",
      "12\n",
      "15\n",
      "18\n"
     ]
    }
   ],
   "source": [
    "# Выведем все числа кратные трем:\n",
    "N = 20\n",
    "i = 1\n",
    "\n",
    "while i<= N:\n",
    "    if i % 3 == 0:\n",
    "        print(i)\n",
    "    i += 1 # после условного оператора увеличиваем на 1    "
   ]
  },
  {
   "cell_type": "markdown",
   "metadata": {},
   "source": [
    "Вводятся два целых положительных числа n и m, причем, n < m. Вывести в строку через пробел квадраты целых чисел в диапазоне [n; m]. Программу реализовать при помощи цикла while"
   ]
  },
  {
   "cell_type": "code",
   "execution_count": 75,
   "metadata": {},
   "outputs": [
    {
     "name": "stdout",
     "output_type": "stream",
     "text": [
      "4 9 16 "
     ]
    }
   ],
   "source": [
    "n, m = list(map(int, input().split()))\n",
    "i = 0          \n",
    "while n <= m:\n",
    "    i = n * n\n",
    "    n += 1\n",
    "    print(i, end=\" \")        "
   ]
  },
  {
   "cell_type": "markdown",
   "metadata": {},
   "source": [
    "### Операторы break, continue и else\n",
    "\n",
    "* **break** - досрочное завершение цикла;\n",
    "* **continue** - пропуск одной итерации цикла;"
   ]
  },
  {
   "cell_type": "code",
   "execution_count": 1,
   "metadata": {},
   "outputs": [
    {
     "name": "stdout",
     "output_type": "stream",
     "text": [
      "запуск цикла\n",
      "завершение цикла\n"
     ]
    }
   ],
   "source": [
    "print('запуск цикла')\n",
    "\n",
    "i = 0\n",
    "while True:\n",
    "    i += 1\n",
    "    break # цикл выполнится один раз, так как break остановит его и выполниться завершение\n",
    "\n",
    "print('завершение цикла')"
   ]
  },
  {
   "cell_type": "code",
   "execution_count": 4,
   "metadata": {},
   "outputs": [
    {
     "name": "stdout",
     "output_type": "stream",
     "text": [
      "0\n",
      "1\n",
      "2\n",
      "3\n",
      "True\n"
     ]
    }
   ],
   "source": [
    "#Задача найти хотябы одно четное число\n",
    "d = [1, 5, 3, 6, 0, -4]\n",
    "\n",
    "flFind = False # означает нашли мы хотябы одно четное в списке или нет\n",
    "i = 0\n",
    "while i < len(d):\n",
    "    print(i) # выведем для наглядности, это индексы (4 это 6 в списке)\n",
    "    flFind = d[i] % 2 == 0 # если переданное число будет четное возвратит True\n",
    "    if flFind: # если равен True\n",
    "        break # прирываем цикл\n",
    "    \n",
    "    i += 1\n",
    "    \n",
    "print(flFind)"
   ]
  },
  {
   "cell_type": "code",
   "execution_count": 5,
   "metadata": {},
   "outputs": [
    {
     "name": "stdout",
     "output_type": "stream",
     "text": [
      "s = 1\n",
      "s = 4\n",
      "s = 9\n",
      "s = 16\n"
     ]
    }
   ],
   "source": [
    "# Задача, предположим что мы в программе просим пользователя вводить числа и все нечетные значения будем суммировать. Но как только пользователь введет\n",
    "#число 0, то подсчёт суммы прекращается.\n",
    "\n",
    "s = 0 # будет хранить сумму нечетных введенных значений\n",
    "d = 1 # куда пользователь будет вводить какие-либо значения\n",
    "\n",
    "while d != 0:\n",
    "    d = int(input('Введите целое число: '))\n",
    "    if d % 2 == 0:\n",
    "        continue # позволяет пропустить нижний код, если будет введено четное число\n",
    "    \n",
    "    s += d\n",
    "    print('s = ' + str(s)) "
   ]
  },
  {
   "cell_type": "markdown",
   "metadata": {},
   "source": [
    "### Оператор else в цикле while"
   ]
  },
  {
   "cell_type": "markdown",
   "metadata": {},
   "source": [
    "\n",
    "while<условие цикла>: } - заголовок\n",
    "    оператор 1\n",
    "    оператор 2 } - тело цикла\n",
    "    ...\n",
    "    оператор N\n",
    "\n",
    "else:\n",
    "    блок операторов  \n",
    "    после завершения } - блок, выполняемый после штатного завершения цикла\n",
    "    цикла    "
   ]
  },
  {
   "cell_type": "code",
   "execution_count": 10,
   "metadata": {},
   "outputs": [
    {
     "name": "stdout",
     "output_type": "stream",
     "text": [
      "Сумма вычислена корректно\n",
      "-2.9289682539682538\n"
     ]
    }
   ],
   "source": [
    "# Пример. Предположим что нам нужно посчитать сумму ряда, если в ряде встричается деление на 0, то деление следует прервать\n",
    "\n",
    "# S = 1/2 + 1/3 + 1/4 + 1/10 ... + 1/0\n",
    "\n",
    "S = 0 # будет хранить сумму\n",
    "i = -10 # будет менятся от допустим -10 и до 100\n",
    "\n",
    "while i < 0:\n",
    "    if i == 0:\n",
    "        break\n",
    "    S += 1/i # подсчитываем сумму\n",
    "    i += 1 # на каждой итерации цикла увеличим\n",
    "else: # Необязательный параметр, который будет выведен после того как отработает цикл\n",
    "    print('Сумма вычислена корректно')\n",
    "    \n",
    "print(S)             "
   ]
  },
  {
   "cell_type": "markdown",
   "metadata": {},
   "source": [
    "Имеется одномерный список длиной 10 элементов, состоящий из нулей:\n",
    "\n",
    "p = [0] * 10\n",
    "\n",
    "На каждой итерации цикла пользователь вводит целое число - индекс элемента списка p, по которому записывается значение 1, если ее там еще нет. Если же 1 уже проставлена, то список не менять и снова запросить у пользователя очередное число. Необходимо расставить так пять единиц в список. (После этого цикл прерывается).\n",
    "\n",
    "Программу реализовать с помощью цикла while и с использованием оператора continue, когда 1 не может быть добавлена в список. Результат вывести на экран в виде последовательности чисел, записанных через пробел."
   ]
  },
  {
   "cell_type": "code",
   "execution_count": 7,
   "metadata": {},
   "outputs": [
    {
     "name": "stdout",
     "output_type": "stream",
     "text": [
      "1 0 1 0 1 0 1 0 1 0\n"
     ]
    }
   ],
   "source": [
    "p = [0] * 10\n",
    "while p.count(1) != 5:\n",
    "    d = int(input())\n",
    "    if p[d] == 1:\n",
    "        continue\n",
    "    p[d] = 1\n",
    "print(*p)"
   ]
  },
  {
   "cell_type": "code",
   "execution_count": null,
   "metadata": {},
   "outputs": [],
   "source": [
    "# Более лаконично\n",
    "\n",
    "p = [0] * 10\n",
    "\n",
    "while sum(p) < 5:\n",
    "    p[int(input())] = 1\n",
    "\n",
    "print(*p)"
   ]
  },
  {
   "cell_type": "markdown",
   "metadata": {},
   "source": [
    "### Оператор цикла for и функция range\n",
    "* Итерируемые объекты - объекты состоящие из множества элементов которые можно переберать\n",
    "for <переменная> in <итерируемый объект>: заголовок<br>\n",
    "    оператор 1<br>\n",
    "    оператор 2<br>\n",
    "    ...<br>\n",
    "    оператор N<br>"
   ]
  },
  {
   "cell_type": "code",
   "execution_count": 1,
   "metadata": {},
   "outputs": [
    {
     "name": "stdout",
     "output_type": "stream",
     "text": [
      "1\n",
      "2\n",
      "3\n",
      "4\n",
      "5\n"
     ]
    }
   ],
   "source": [
    "#Задача перебрать все цифры от 1 до 5\n",
    "d = [1, 2, 3, 4, 5]\n",
    "\n",
    "for i in d:\n",
    "    print(i)"
   ]
  },
  {
   "cell_type": "code",
   "execution_count": 2,
   "metadata": {},
   "outputs": [
    {
     "name": "stdout",
     "output_type": "stream",
     "text": [
      "p\n",
      "y\n",
      "t\n",
      "h\n",
      "o\n",
      "n\n"
     ]
    }
   ],
   "source": [
    "for i in 'python':\n",
    "    print(i)"
   ]
  },
  {
   "cell_type": "markdown",
   "metadata": {},
   "source": [
    "Переменная i ссылается на передаваемый после in объект. Она не меняет его содержимое"
   ]
  },
  {
   "cell_type": "code",
   "execution_count": null,
   "metadata": {},
   "outputs": [],
   "source": [
    "# В этом примере мы не изменили содержание списка, мы просто переопределили ссылку переменной х\n",
    "for i in [1, 2, 3, 4, 5]:\n",
    "    x = 0"
   ]
  },
  {
   "cell_type": "code",
   "execution_count": 3,
   "metadata": {},
   "outputs": [
    {
     "name": "stdout",
     "output_type": "stream",
     "text": [
      "[0, 0, 0, 0, 0]\n"
     ]
    }
   ],
   "source": [
    "#Способ переопределения итерируемых объектов. \n",
    "#Передача списка в качестве итерируемого объекта не лучшая практика для этого используется функция range()\n",
    "\n",
    "d = [1, 2, 3, 4, 5]\n",
    "\n",
    "for i in [0, 1, 2, 3, 4]:  \n",
    "   d[i] = 0   \n",
    "print(d)"
   ]
  },
  {
   "cell_type": "markdown",
   "metadata": {},
   "source": [
    "### Функция range()\n",
    "**Генерирует арифметическую последовательность**<br>\n",
    "*Включает в себя параметры:*\n",
    "* range(start, stop, step)\n",
    "* range(start, stop)\n",
    "* range(stop)"
   ]
  },
  {
   "cell_type": "code",
   "execution_count": 5,
   "metadata": {},
   "outputs": [
    {
     "data": {
      "text/plain": [
       "[0, 1, 2, 3, 4]"
      ]
     },
     "execution_count": 5,
     "metadata": {},
     "output_type": "execute_result"
    }
   ],
   "source": [
    "# Вывод аналогичный\n",
    "list(range(0, 5, 1))\n",
    "list(range(0, 5))\n",
    "list(range(5))"
   ]
  },
  {
   "cell_type": "code",
   "execution_count": 7,
   "metadata": {},
   "outputs": [
    {
     "data": {
      "text/plain": [
       "[5, 4, 3, 2, 1, 0]"
      ]
     },
     "execution_count": 7,
     "metadata": {},
     "output_type": "execute_result"
    }
   ],
   "source": [
    "#Обратите внимание, что можно и отрицательный шаг\n",
    "list(range(5, -1, -1))"
   ]
  },
  {
   "cell_type": "code",
   "execution_count": 8,
   "metadata": {},
   "outputs": [
    {
     "name": "stdout",
     "output_type": "stream",
     "text": [
      "[0, 0, 0, 0, 0]\n"
     ]
    }
   ],
   "source": [
    "#Вернемся к примеру\n",
    "\n",
    "d = [1, 2, 3, 4, 5]\n",
    "\n",
    "for i in range(5):  \n",
    "   d[i] = 0   \n",
    "print(d) "
   ]
  },
  {
   "cell_type": "markdown",
   "metadata": {},
   "source": [
    "Лучше всего при использовании range в параметра указывать длину len(списка). Чтобы не ошибится"
   ]
  },
  {
   "cell_type": "code",
   "execution_count": null,
   "metadata": {},
   "outputs": [],
   "source": [
    "d = [1, 2, 3, 4, 5]\n",
    "\n",
    "for i in range(len(d)):  \n",
    "   d[i] = 0   \n",
    "print(d) "
   ]
  },
  {
   "cell_type": "code",
   "execution_count": 9,
   "metadata": {},
   "outputs": [
    {
     "name": "stdout",
     "output_type": "stream",
     "text": [
      "6.485470860550342\n"
     ]
    }
   ],
   "source": [
    "#Пример. Напишем программу для вычисления S = 1/2 + 1/3 + 1/4 + ... + 1/1000\n",
    "\n",
    "S = 0 # Хранит сумму которую мы будем вычислять\n",
    "for i in range(2, 1001):\n",
    "    S += 1/i\n",
    "\n",
    "print(S)    "
   ]
  }
 ],
 "metadata": {
  "kernelspec": {
   "display_name": "Python 3",
   "language": "python",
   "name": "python3"
  },
  "language_info": {
   "codemirror_mode": {
    "name": "ipython",
    "version": 3
   },
   "file_extension": ".py",
   "mimetype": "text/x-python",
   "name": "python",
   "nbconvert_exporter": "python",
   "pygments_lexer": "ipython3",
   "version": "3.12.0"
  },
  "orig_nbformat": 4
 },
 "nbformat": 4,
 "nbformat_minor": 2
}
